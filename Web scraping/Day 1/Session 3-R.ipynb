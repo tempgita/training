{
 "cells": [
  {
   "cell_type": "code",
   "execution_count": null,
   "id": "1b229ca1-9e61-4657-927a-7cb2c85a7078",
   "metadata": {},
   "outputs": [],
   "source": [
    "install.packages(c('RSelenium','rvest','netstat','httr','dplyr')) "
   ]
  },
  {
   "cell_type": "code",
   "execution_count": null,
   "id": "b86616cc-250a-456f-99f3-1380986fbbac",
   "metadata": {},
   "outputs": [],
   "source": [
    "library(RSelenium)\n",
    "library(netstat)\n",
    "library(httr)\n",
    "rD <- rsDriver(browser = \"firefox\", port = free_port())\n",
    "remDr <- rD$client\n",
    "remDr$navigate(\"https://www.google.com\")"
   ]
  }
 ],
 "metadata": {
  "kernelspec": {
   "display_name": "R",
   "language": "R",
   "name": "ir"
  },
  "language_info": {
   "codemirror_mode": "r",
   "file_extension": ".r",
   "mimetype": "text/x-r-source",
   "name": "R",
   "pygments_lexer": "r",
   "version": "4.4.1"
  }
 },
 "nbformat": 4,
 "nbformat_minor": 5
}
