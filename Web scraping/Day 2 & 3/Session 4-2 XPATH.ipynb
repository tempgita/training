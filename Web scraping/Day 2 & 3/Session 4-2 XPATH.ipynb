{
 "cells": [
  {
   "cell_type": "markdown",
   "id": "414e874f-adba-41b7-8df5-ee2eda7cf2e0",
   "metadata": {},
   "source": [
    "# **Using `XPATH` for web scraping**"
   ]
  },
  {
   "cell_type": "markdown",
   "id": "a0cd86b4-6d51-4de3-b142-e6bac3e1cc9c",
   "metadata": {},
   "source": [
    "---\n",
    "### Example 3. Product price scraping from https://nepalfoods.gov.np/\n",
    "---"
   ]
  },
  {
   "cell_type": "code",
   "execution_count": null,
   "id": "7d4fd6b7-7825-43df-9f40-1f1085c1cee4",
   "metadata": {},
   "outputs": [],
   "source": [
    "library(rvest) #see https://rvest.tidyverse.org/articles/harvesting-the-web.html for details\n",
    "library(dplyr)\n",
    "\n",
    "#loading webpage content\n",
    "webpage <- read_html(\"https://nepalfoods.gov.np/\")"
   ]
  },
  {
   "cell_type": "code",
   "execution_count": 2,
   "id": "278d20ae-823b-4271-8bf9-656cfc1d4dbf",
   "metadata": {},
   "outputs": [
    {
     "data": {
      "text/html": [
       "27"
      ],
      "text/latex": [
       "27"
      ],
      "text/markdown": [
       "27"
      ],
      "text/plain": [
       "[1] 27"
      ]
     },
     "metadata": {},
     "output_type": "display_data"
    },
    {
     "data": {
      "text/html": [
       "<style>\n",
       ".list-inline {list-style: none; margin:0; padding: 0}\n",
       ".list-inline>li {display: inline-block}\n",
       ".list-inline>li:not(:last-child)::after {content: \"\\00b7\"; padding: 0 .5ex}\n",
       "</style>\n",
       "<ol class=list-inline><li>'अन्य'</li><li>'अन्य'</li><li>'चामल'</li><li>'चामल'</li><li>'चामल'</li><li>'दाल'</li></ol>\n"
      ],
      "text/latex": [
       "\\begin{enumerate*}\n",
       "\\item 'अन्य'\n",
       "\\item 'अन्य'\n",
       "\\item 'चामल'\n",
       "\\item 'चामल'\n",
       "\\item 'चामल'\n",
       "\\item 'दाल'\n",
       "\\end{enumerate*}\n"
      ],
      "text/markdown": [
       "1. 'अन्य'\n",
       "2. 'अन्य'\n",
       "3. 'चामल'\n",
       "4. 'चामल'\n",
       "5. 'चामल'\n",
       "6. 'दाल'\n",
       "\n",
       "\n"
      ],
      "text/plain": [
       "[1] \"अन्य\"  \"अन्य\"  \"चामल\" \"चामल\" \"चामल\" \"दाल\" "
      ]
     },
     "metadata": {},
     "output_type": "display_data"
    },
    {
     "data": {
      "text/html": [
       "27"
      ],
      "text/latex": [
       "27"
      ],
      "text/markdown": [
       "27"
      ],
      "text/plain": [
       "[1] 27"
      ]
     },
     "metadata": {},
     "output_type": "display_data"
    },
    {
     "data": {
      "text/html": [
       "<style>\n",
       ".list-inline {list-style: none; margin:0; padding: 0}\n",
       ".list-inline>li {display: inline-block}\n",
       ".list-inline>li:not(:last-child)::after {content: \"\\00b7\"; padding: 0 .5ex}\n",
       "</style>\n",
       "<ol class=list-inline><li>'उवा १ केजी'</li><li>'चियापत्ती ५०० ग्राम'</li><li><span style=white-space:pre-wrap>'Long Grain चामल  १० केजी'</span></li><li>'हुम्लाको कागुनोको चामल १ केजी'</li><li>'हुम्लाको चिनोको चामल १ केजी'</li><li>'कर्णालीको सिमि १ केजी'</li></ol>\n"
      ],
      "text/latex": [
       "\\begin{enumerate*}\n",
       "\\item 'उवा १ केजी'\n",
       "\\item 'चियापत्ती ५०० ग्राम'\n",
       "\\item 'Long Grain चामल  १० केजी'\n",
       "\\item 'हुम्लाको कागुनोको चामल १ केजी'\n",
       "\\item 'हुम्लाको चिनोको चामल १ केजी'\n",
       "\\item 'कर्णालीको सिमि १ केजी'\n",
       "\\end{enumerate*}\n"
      ],
      "text/markdown": [
       "1. 'उवा १ केजी'\n",
       "2. 'चियापत्ती ५०० ग्राम'\n",
       "3. <span style=white-space:pre-wrap>'Long Grain चामल  १० केजी'</span>\n",
       "4. 'हुम्लाको कागुनोको चामल १ केजी'\n",
       "5. 'हुम्लाको चिनोको चामल १ केजी'\n",
       "6. 'कर्णालीको सिमि १ केजी'\n",
       "\n",
       "\n"
      ],
      "text/plain": [
       "[1] \"उवा १ केजी\"                 \"चियापत्ती ५०० ग्राम\"        \n",
       "[3] \"Long Grain चामल  १० केजी\"   \"हुम्लाको कागुनोको चामल १ केजी\"\n",
       "[5] \"हुम्लाको चिनोको चामल १ केजी\"  \"कर्णालीको सिमि १ केजी\"      "
      ]
     },
     "metadata": {},
     "output_type": "display_data"
    },
    {
     "data": {
      "text/html": [
       "27"
      ],
      "text/latex": [
       "27"
      ],
      "text/markdown": [
       "27"
      ],
      "text/plain": [
       "[1] 27"
      ]
     },
     "metadata": {},
     "output_type": "display_data"
    },
    {
     "data": {
      "text/html": [
       "<style>\n",
       ".list-inline {list-style: none; margin:0; padding: 0}\n",
       ".list-inline>li {display: inline-block}\n",
       ".list-inline>li:not(:last-child)::after {content: \"\\00b7\"; padding: 0 .5ex}\n",
       "</style>\n",
       "<ol class=list-inline><li>'NPR 200.00'</li><li>'NPR 270.00'</li><li>'NPR 1780.00'</li><li>'NPR 260.00'</li><li>'NPR 260.00'</li><li>'NPR 240.00'</li></ol>\n"
      ],
      "text/latex": [
       "\\begin{enumerate*}\n",
       "\\item 'NPR 200.00'\n",
       "\\item 'NPR 270.00'\n",
       "\\item 'NPR 1780.00'\n",
       "\\item 'NPR 260.00'\n",
       "\\item 'NPR 260.00'\n",
       "\\item 'NPR 240.00'\n",
       "\\end{enumerate*}\n"
      ],
      "text/markdown": [
       "1. 'NPR 200.00'\n",
       "2. 'NPR 270.00'\n",
       "3. 'NPR 1780.00'\n",
       "4. 'NPR 260.00'\n",
       "5. 'NPR 260.00'\n",
       "6. 'NPR 240.00'\n",
       "\n",
       "\n"
      ],
      "text/plain": [
       "[1] \"NPR 200.00\"  \"NPR 270.00\"  \"NPR 1780.00\" \"NPR 260.00\"  \"NPR 260.00\" \n",
       "[6] \"NPR 240.00\" "
      ]
     },
     "metadata": {},
     "output_type": "display_data"
    }
   ],
   "source": [
    "category <- webpage %>% html_nodes(xpath = \"//div[@class='product-category']\") %>% html_text(trim=TRUE)\n",
    "length(category)\n",
    "head(category)\n",
    "\n",
    "product <- webpage %>% html_nodes(xpath = \"//h2\") %>% html_text(trim=TRUE)\n",
    "length(product)\n",
    "head(product)\n",
    "\n",
    "price <- webpage %>% html_nodes(xpath = \"//div[@class='product-price']\") %>% html_text(trim=TRUE)\n",
    "length(price)\n",
    "head(price)"
   ]
  },
  {
   "cell_type": "code",
   "execution_count": 3,
   "id": "4dffa94c-5308-47fd-a4c7-029e54837d3b",
   "metadata": {},
   "outputs": [
    {
     "data": {
      "text/html": [
       "<table class=\"dataframe\">\n",
       "<caption>A data.frame: 6 × 3</caption>\n",
       "<thead>\n",
       "\t<tr><th></th><th scope=col>category</th><th scope=col>product</th><th scope=col>price</th></tr>\n",
       "\t<tr><th></th><th scope=col>&lt;chr&gt;</th><th scope=col>&lt;chr&gt;</th><th scope=col>&lt;chr&gt;</th></tr>\n",
       "</thead>\n",
       "<tbody>\n",
       "\t<tr><th scope=row>1</th><td>अन्य</td><td>उवा १ केजी                                   </td><td>NPR 200.00 </td></tr>\n",
       "\t<tr><th scope=row>2</th><td>अन्य</td><td>चियापत्ती ५०० ग्राम                           </td><td>NPR 270.00 </td></tr>\n",
       "\t<tr><th scope=row>3</th><td>अन्य</td><td>टाइमपास टाइचिन चिउरा १ केजी                  </td><td>NPR 100.00 </td></tr>\n",
       "\t<tr><th scope=row>4</th><td>अन्य</td><td>गहुँ आटा 5 केजी                                </td><td>NPR 360.00 </td></tr>\n",
       "\t<tr><th scope=row>5</th><td>अन्य</td><td>डी.डी.सी डेरी घ्यू १/२ लि                      </td><td>NPR 580.00 </td></tr>\n",
       "\t<tr><th scope=row>6</th><td>अन्य</td><td>STC ग्यास सिलिण्डर(Exchange only STC Cylinder)</td><td>NPR 1910.00</td></tr>\n",
       "</tbody>\n",
       "</table>\n"
      ],
      "text/latex": [
       "A data.frame: 6 × 3\n",
       "\\begin{tabular}{r|lll}\n",
       "  & category & product & price\\\\\n",
       "  & <chr> & <chr> & <chr>\\\\\n",
       "\\hline\n",
       "\t1 & अन्य & उवा १ केजी                                    & NPR 200.00 \\\\\n",
       "\t2 & अन्य & चियापत्ती ५०० ग्राम                            & NPR 270.00 \\\\\n",
       "\t3 & अन्य & टाइमपास टाइचिन चिउरा १ केजी                   & NPR 100.00 \\\\\n",
       "\t4 & अन्य & गहुँ आटा 5 केजी                                 & NPR 360.00 \\\\\n",
       "\t5 & अन्य & डी.डी.सी डेरी घ्यू १/२ लि                       & NPR 580.00 \\\\\n",
       "\t6 & अन्य & STC ग्यास सिलिण्डर(Exchange only STC Cylinder) & NPR 1910.00\\\\\n",
       "\\end{tabular}\n"
      ],
      "text/markdown": [
       "\n",
       "A data.frame: 6 × 3\n",
       "\n",
       "| <!--/--> | category &lt;chr&gt; | product &lt;chr&gt; | price &lt;chr&gt; |\n",
       "|---|---|---|---|\n",
       "| 1 | अन्य | उवा १ केजी                                    | NPR 200.00  |\n",
       "| 2 | अन्य | चियापत्ती ५०० ग्राम                            | NPR 270.00  |\n",
       "| 3 | अन्य | टाइमपास टाइचिन चिउरा १ केजी                   | NPR 100.00  |\n",
       "| 4 | अन्य | गहुँ आटा 5 केजी                                 | NPR 360.00  |\n",
       "| 5 | अन्य | डी.डी.सी डेरी घ्यू १/२ लि                       | NPR 580.00  |\n",
       "| 6 | अन्य | STC ग्यास सिलिण्डर(Exchange only STC Cylinder) | NPR 1910.00 |\n",
       "\n"
      ],
      "text/plain": [
       "  category product                                      price      \n",
       "1 अन्य      उवा १ केजी                                    NPR 200.00 \n",
       "2 अन्य      चियापत्ती ५०० ग्राम                            NPR 270.00 \n",
       "3 अन्य      टाइमपास टाइचिन चिउरा १ केजी                   NPR 100.00 \n",
       "4 अन्य      गहुँ आटा 5 केजी                                 NPR 360.00 \n",
       "5 अन्य      डी.डी.सी डेरी घ्यू १/२ लि                       NPR 580.00 \n",
       "6 अन्य      STC ग्यास सिलिण्डर(Exchange only STC Cylinder) NPR 1910.00"
      ]
     },
     "metadata": {},
     "output_type": "display_data"
    }
   ],
   "source": [
    "#creating dataframe from category, product, and price list\n",
    "df <- data.frame(category, product, price)\n",
    "df <- df %>% arrange(category)\n",
    "head(df)\n",
    "\n",
    "#saving dataframe\n",
    "write.csv(df, file = \"example3.csv\", row.names=FALSE)"
   ]
  },
  {
   "cell_type": "markdown",
   "id": "b6692e59-9227-4cdf-9d1c-fcc4477a6c03",
   "metadata": {},
   "source": [
    "---\n",
    "### Example 4. Extract information on Top Box Office movies from https://www.imdb.com/chart/boxoffice\n",
    "---"
   ]
  },
  {
   "cell_type": "code",
   "execution_count": 4,
   "id": "1ed5653e-1ce0-453c-8e8f-c9b5610e15e9",
   "metadata": {},
   "outputs": [],
   "source": [
    "#loading webpage content\n",
    "webpage <- read_html(\"https://www.imdb.com/chart/boxoffice\")"
   ]
  },
  {
   "cell_type": "code",
   "execution_count": 5,
   "id": "99fd0ce6-84ee-48f4-a9ff-9cf808e98f0a",
   "metadata": {},
   "outputs": [
    {
     "data": {
      "text/html": [
       "10"
      ],
      "text/latex": [
       "10"
      ],
      "text/markdown": [
       "10"
      ],
      "text/plain": [
       "[1] 10"
      ]
     },
     "metadata": {},
     "output_type": "display_data"
    },
    {
     "name": "stdout",
     "output_type": "stream",
     "text": [
      " [1] \"1. Inside Out 2\"                                      \n",
      " [2] \"2. Bad Boys: Ride or Die\"                             \n",
      " [3] \"3. Kingdom of the Planet of the Apes\"                 \n",
      " [4] \"4. The Garfield Movie\"                                \n",
      " [5] \"5. IF\"                                                \n",
      " [6] \"6. The Watchers\"                                      \n",
      " [7] \"7. Furiosa: A Mad Max Saga\"                           \n",
      " [8] \"8. The Fall Guy\"                                      \n",
      " [9] \"9. The Strangers: Chapter 1\"                          \n",
      "[10] \"10. The Lord of the Rings: The Fellowship of the Ring\"\n"
     ]
    },
    {
     "data": {
      "text/html": [
       "10"
      ],
      "text/latex": [
       "10"
      ],
      "text/markdown": [
       "10"
      ],
      "text/plain": [
       "[1] 10"
      ]
     },
     "metadata": {},
     "output_type": "display_data"
    },
    {
     "name": "stdout",
     "output_type": "stream",
     "text": [
      " [1] \"$154M\" \"$34M\"  \"$5.5M\" \"$4.8M\" \"$3.6M\" \"$3.5M\" \"$2.6M\" \"$1.6M\" \"$759K\"\n",
      "[10] \"$633K\"\n"
     ]
    },
    {
     "data": {
      "text/html": [
       "10"
      ],
      "text/latex": [
       "10"
      ],
      "text/markdown": [
       "10"
      ],
      "text/plain": [
       "[1] 10"
      ]
     },
     "metadata": {},
     "output_type": "display_data"
    },
    {
     "name": "stdout",
     "output_type": "stream",
     "text": [
      " [1] \"$154M\" \"$113M\" \"$158M\" \"$78M\"  \"$101M\" \"$14M\"  \"$63M\"  \"$88M\"  \"$34M\" \n",
      "[10] \"$319M\"\n"
     ]
    },
    {
     "data": {
      "text/html": [
       "10"
      ],
      "text/latex": [
       "10"
      ],
      "text/markdown": [
       "10"
      ],
      "text/plain": [
       "[1] 10"
      ]
     },
     "metadata": {},
     "output_type": "display_data"
    },
    {
     "name": "stdout",
     "output_type": "stream",
     "text": [
      " [1] \"1\" \"2\" \"6\" \"4\" \"5\" \"2\" \"4\" \"7\" \"5\" \"2\"\n"
     ]
    },
    {
     "data": {
      "text/html": [
       "10"
      ],
      "text/latex": [
       "10"
      ],
      "text/markdown": [
       "10"
      ],
      "text/plain": [
       "[1] 10"
      ]
     },
     "metadata": {},
     "output_type": "display_data"
    },
    {
     "name": "stdout",
     "output_type": "stream",
     "text": [
      " [1] \"8.0 (16K)\"  \"7.0 (19K)\"  \"7.2 (53K)\"  \"5.8 (8.4K)\" \"6.7 (14K)\" \n",
      " [6] \"5.8 (6.9K)\" \"7.8 (85K)\"  \"7.0 (101K)\" \"4.7 (11K)\"  \"8.9 (2M)\"  \n"
     ]
    }
   ],
   "source": [
    "movie <- webpage %>% html_nodes(xpath = \"//a[@class='ipc-title-link-wrapper']\") %>% html_text(trim=TRUE)\n",
    "length(movie)\n",
    "print(movie)\n",
    "\n",
    "weekend_gross <- webpage %>% html_nodes(xpath = \"//span[contains(.,'Weekend Gross:')]/parent::*/span[2]\") %>% html_text(trim=TRUE)\n",
    "length(weekend_gross)\n",
    "print(weekend_gross)\n",
    "\n",
    "total_gross <- webpage %>% html_nodes(xpath = \"//span[contains(.,'Total Gross:')]/parent::*/span[2]\") %>% html_text(trim=TRUE)\n",
    "length(total_gross)\n",
    "print(total_gross)\n",
    "\n",
    "weeks_released <- webpage %>% html_nodes(xpath = \"//span[contains(.,'Weeks Released:')]/parent::*/span[2]\") %>% html_text(trim=TRUE)\n",
    "length(weeks_released)\n",
    "print(weeks_released)\n",
    "\n",
    "rating <- webpage %>% html_nodes(xpath = \"//span[@data-testid='ratingGroup--imdb-rating']\") %>% html_text(trim=TRUE)\n",
    "length(rating)\n",
    "print(rating)"
   ]
  },
  {
   "cell_type": "code",
   "execution_count": 6,
   "id": "88d59895-154b-46a2-97e2-460c034cf4a3",
   "metadata": {},
   "outputs": [
    {
     "data": {
      "text/html": [
       "<table class=\"dataframe\">\n",
       "<caption>A data.frame: 10 × 5</caption>\n",
       "<thead>\n",
       "\t<tr><th scope=col>movie</th><th scope=col>weekend_gross</th><th scope=col>total_gross</th><th scope=col>weeks_released</th><th scope=col>rating</th></tr>\n",
       "\t<tr><th scope=col>&lt;chr&gt;</th><th scope=col>&lt;chr&gt;</th><th scope=col>&lt;chr&gt;</th><th scope=col>&lt;chr&gt;</th><th scope=col>&lt;chr&gt;</th></tr>\n",
       "</thead>\n",
       "<tbody>\n",
       "\t<tr><td>1. Inside Out 2                                      </td><td>$154M</td><td>$154M</td><td>1</td><td>8.0 (16K) </td></tr>\n",
       "\t<tr><td>2. Bad Boys: Ride or Die                             </td><td>$34M </td><td>$113M</td><td>2</td><td>7.0 (19K) </td></tr>\n",
       "\t<tr><td>3. Kingdom of the Planet of the Apes                 </td><td>$5.5M</td><td>$158M</td><td>6</td><td>7.2 (53K) </td></tr>\n",
       "\t<tr><td>4. The Garfield Movie                                </td><td>$4.8M</td><td>$78M </td><td>4</td><td>5.8 (8.4K)</td></tr>\n",
       "\t<tr><td>5. IF                                                </td><td>$3.6M</td><td>$101M</td><td>5</td><td>6.7 (14K) </td></tr>\n",
       "\t<tr><td>6. The Watchers                                      </td><td>$3.5M</td><td>$14M </td><td>2</td><td>5.8 (6.9K)</td></tr>\n",
       "\t<tr><td>7. Furiosa: A Mad Max Saga                           </td><td>$2.6M</td><td>$63M </td><td>4</td><td>7.8 (85K) </td></tr>\n",
       "\t<tr><td>8. The Fall Guy                                      </td><td>$1.6M</td><td>$88M </td><td>7</td><td>7.0 (101K)</td></tr>\n",
       "\t<tr><td>9. The Strangers: Chapter 1                          </td><td>$759K</td><td>$34M </td><td>5</td><td>4.7 (11K) </td></tr>\n",
       "\t<tr><td>10. The Lord of the Rings: The Fellowship of the Ring</td><td>$633K</td><td>$319M</td><td>2</td><td>8.9 (2M)  </td></tr>\n",
       "</tbody>\n",
       "</table>\n"
      ],
      "text/latex": [
       "A data.frame: 10 × 5\n",
       "\\begin{tabular}{lllll}\n",
       " movie & weekend\\_gross & total\\_gross & weeks\\_released & rating\\\\\n",
       " <chr> & <chr> & <chr> & <chr> & <chr>\\\\\n",
       "\\hline\n",
       "\t 1. Inside Out 2                                       & \\$154M & \\$154M & 1 & 8.0 (16K) \\\\\n",
       "\t 2. Bad Boys: Ride or Die                              & \\$34M  & \\$113M & 2 & 7.0 (19K) \\\\\n",
       "\t 3. Kingdom of the Planet of the Apes                  & \\$5.5M & \\$158M & 6 & 7.2 (53K) \\\\\n",
       "\t 4. The Garfield Movie                                 & \\$4.8M & \\$78M  & 4 & 5.8 (8.4K)\\\\\n",
       "\t 5. IF                                                 & \\$3.6M & \\$101M & 5 & 6.7 (14K) \\\\\n",
       "\t 6. The Watchers                                       & \\$3.5M & \\$14M  & 2 & 5.8 (6.9K)\\\\\n",
       "\t 7. Furiosa: A Mad Max Saga                            & \\$2.6M & \\$63M  & 4 & 7.8 (85K) \\\\\n",
       "\t 8. The Fall Guy                                       & \\$1.6M & \\$88M  & 7 & 7.0 (101K)\\\\\n",
       "\t 9. The Strangers: Chapter 1                           & \\$759K & \\$34M  & 5 & 4.7 (11K) \\\\\n",
       "\t 10. The Lord of the Rings: The Fellowship of the Ring & \\$633K & \\$319M & 2 & 8.9 (2M)  \\\\\n",
       "\\end{tabular}\n"
      ],
      "text/markdown": [
       "\n",
       "A data.frame: 10 × 5\n",
       "\n",
       "| movie &lt;chr&gt; | weekend_gross &lt;chr&gt; | total_gross &lt;chr&gt; | weeks_released &lt;chr&gt; | rating &lt;chr&gt; |\n",
       "|---|---|---|---|---|\n",
       "| 1. Inside Out 2                                       | $154M | $154M | 1 | 8.0 (16K)  |\n",
       "| 2. Bad Boys: Ride or Die                              | $34M  | $113M | 2 | 7.0 (19K)  |\n",
       "| 3. Kingdom of the Planet of the Apes                  | $5.5M | $158M | 6 | 7.2 (53K)  |\n",
       "| 4. The Garfield Movie                                 | $4.8M | $78M  | 4 | 5.8 (8.4K) |\n",
       "| 5. IF                                                 | $3.6M | $101M | 5 | 6.7 (14K)  |\n",
       "| 6. The Watchers                                       | $3.5M | $14M  | 2 | 5.8 (6.9K) |\n",
       "| 7. Furiosa: A Mad Max Saga                            | $2.6M | $63M  | 4 | 7.8 (85K)  |\n",
       "| 8. The Fall Guy                                       | $1.6M | $88M  | 7 | 7.0 (101K) |\n",
       "| 9. The Strangers: Chapter 1                           | $759K | $34M  | 5 | 4.7 (11K)  |\n",
       "| 10. The Lord of the Rings: The Fellowship of the Ring | $633K | $319M | 2 | 8.9 (2M)   |\n",
       "\n"
      ],
      "text/plain": [
       "   movie                                                 weekend_gross\n",
       "1  1. Inside Out 2                                       $154M        \n",
       "2  2. Bad Boys: Ride or Die                              $34M         \n",
       "3  3. Kingdom of the Planet of the Apes                  $5.5M        \n",
       "4  4. The Garfield Movie                                 $4.8M        \n",
       "5  5. IF                                                 $3.6M        \n",
       "6  6. The Watchers                                       $3.5M        \n",
       "7  7. Furiosa: A Mad Max Saga                            $2.6M        \n",
       "8  8. The Fall Guy                                       $1.6M        \n",
       "9  9. The Strangers: Chapter 1                           $759K        \n",
       "10 10. The Lord of the Rings: The Fellowship of the Ring $633K        \n",
       "   total_gross weeks_released rating    \n",
       "1  $154M       1              8.0 (16K) \n",
       "2  $113M       2              7.0 (19K) \n",
       "3  $158M       6              7.2 (53K) \n",
       "4  $78M        4              5.8 (8.4K)\n",
       "5  $101M       5              6.7 (14K) \n",
       "6  $14M        2              5.8 (6.9K)\n",
       "7  $63M        4              7.8 (85K) \n",
       "8  $88M        7              7.0 (101K)\n",
       "9  $34M        5              4.7 (11K) \n",
       "10 $319M       2              8.9 (2M)  "
      ]
     },
     "metadata": {},
     "output_type": "display_data"
    }
   ],
   "source": [
    "df <- data.frame(movie, weekend_gross, total_gross, weeks_released, rating)\n",
    "df\n",
    "\n",
    "write.csv(df, file = 'example4.csv', row.names=FALSE)"
   ]
  },
  {
   "cell_type": "markdown",
   "id": "07729f8f-4e69-4d05-b124-26aceb5676e8",
   "metadata": {},
   "source": [
    "---\n",
    "### Practice 2. From https://www.imdb.com/chart/moviemeter, prepare a table of most popular movies with movie name, year, length, and ratings.\n",
    "---"
   ]
  },
  {
   "cell_type": "code",
   "execution_count": 7,
   "id": "ce385abb-c7d4-4f40-86e3-00d710b2e07b",
   "metadata": {},
   "outputs": [],
   "source": [
    "#loading webpage content\n",
    "webpage <- read_html(\"https://www.imdb.com/chart/moviemeter\")"
   ]
  },
  {
   "cell_type": "code",
   "execution_count": 8,
   "id": "9ef9a115-b8ec-4060-adfd-888adfc91a41",
   "metadata": {},
   "outputs": [
    {
     "data": {
      "text/html": [
       "25"
      ],
      "text/latex": [
       "25"
      ],
      "text/markdown": [
       "25"
      ],
      "text/plain": [
       "[1] 25"
      ]
     },
     "metadata": {},
     "output_type": "display_data"
    },
    {
     "data": {
      "text/html": [
       "<style>\n",
       ".list-inline {list-style: none; margin:0; padding: 0}\n",
       ".list-inline>li {display: inline-block}\n",
       ".list-inline>li:not(:last-child)::after {content: \"\\00b7\"; padding: 0 .5ex}\n",
       "</style>\n",
       "<ol class=list-inline><li>'Hit Man'</li><li>'Bad Boys: Ride or Die'</li><li>'Inside Out 2'</li><li>'Furiosa: A Mad Max Saga'</li><li>'Sous la Seine'</li><li>'The Watchers'</li><li>'The Fall Guy'</li><li>'Gojira -1.0'</li><li>'Civil War'</li><li>'Inside Out'</li><li>'Dune: Part Two'</li><li>'Kingdom of the Planet of the Apes'</li><li>'The Strangers: Chapter 1'</li><li>'Munjya'</li><li>'Challengers'</li><li>'Deadpool &amp; Wolverine'</li><li>'The Bikeriders'</li><li>'Mad Max: Fury Road'</li><li>'Anyone But You'</li><li>'The First Omen'</li><li>'IF'</li><li>'Am I OK?'</li><li>'Kinds of Kindness'</li><li>'The Ministry of Ungentlemanly Warfare'</li><li>'Atlas'</li></ol>\n"
      ],
      "text/latex": [
       "\\begin{enumerate*}\n",
       "\\item 'Hit Man'\n",
       "\\item 'Bad Boys: Ride or Die'\n",
       "\\item 'Inside Out 2'\n",
       "\\item 'Furiosa: A Mad Max Saga'\n",
       "\\item 'Sous la Seine'\n",
       "\\item 'The Watchers'\n",
       "\\item 'The Fall Guy'\n",
       "\\item 'Gojira -1.0'\n",
       "\\item 'Civil War'\n",
       "\\item 'Inside Out'\n",
       "\\item 'Dune: Part Two'\n",
       "\\item 'Kingdom of the Planet of the Apes'\n",
       "\\item 'The Strangers: Chapter 1'\n",
       "\\item 'Munjya'\n",
       "\\item 'Challengers'\n",
       "\\item 'Deadpool \\& Wolverine'\n",
       "\\item 'The Bikeriders'\n",
       "\\item 'Mad Max: Fury Road'\n",
       "\\item 'Anyone But You'\n",
       "\\item 'The First Omen'\n",
       "\\item 'IF'\n",
       "\\item 'Am I OK?'\n",
       "\\item 'Kinds of Kindness'\n",
       "\\item 'The Ministry of Ungentlemanly Warfare'\n",
       "\\item 'Atlas'\n",
       "\\end{enumerate*}\n"
      ],
      "text/markdown": [
       "1. 'Hit Man'\n",
       "2. 'Bad Boys: Ride or Die'\n",
       "3. 'Inside Out 2'\n",
       "4. 'Furiosa: A Mad Max Saga'\n",
       "5. 'Sous la Seine'\n",
       "6. 'The Watchers'\n",
       "7. 'The Fall Guy'\n",
       "8. 'Gojira -1.0'\n",
       "9. 'Civil War'\n",
       "10. 'Inside Out'\n",
       "11. 'Dune: Part Two'\n",
       "12. 'Kingdom of the Planet of the Apes'\n",
       "13. 'The Strangers: Chapter 1'\n",
       "14. 'Munjya'\n",
       "15. 'Challengers'\n",
       "16. 'Deadpool &amp; Wolverine'\n",
       "17. 'The Bikeriders'\n",
       "18. 'Mad Max: Fury Road'\n",
       "19. 'Anyone But You'\n",
       "20. 'The First Omen'\n",
       "21. 'IF'\n",
       "22. 'Am I OK?'\n",
       "23. 'Kinds of Kindness'\n",
       "24. 'The Ministry of Ungentlemanly Warfare'\n",
       "25. 'Atlas'\n",
       "\n",
       "\n"
      ],
      "text/plain": [
       " [1] \"Hit Man\"                              \n",
       " [2] \"Bad Boys: Ride or Die\"                \n",
       " [3] \"Inside Out 2\"                         \n",
       " [4] \"Furiosa: A Mad Max Saga\"              \n",
       " [5] \"Sous la Seine\"                        \n",
       " [6] \"The Watchers\"                         \n",
       " [7] \"The Fall Guy\"                         \n",
       " [8] \"Gojira -1.0\"                          \n",
       " [9] \"Civil War\"                            \n",
       "[10] \"Inside Out\"                           \n",
       "[11] \"Dune: Part Two\"                       \n",
       "[12] \"Kingdom of the Planet of the Apes\"    \n",
       "[13] \"The Strangers: Chapter 1\"             \n",
       "[14] \"Munjya\"                               \n",
       "[15] \"Challengers\"                          \n",
       "[16] \"Deadpool & Wolverine\"                 \n",
       "[17] \"The Bikeriders\"                       \n",
       "[18] \"Mad Max: Fury Road\"                   \n",
       "[19] \"Anyone But You\"                       \n",
       "[20] \"The First Omen\"                       \n",
       "[21] \"IF\"                                   \n",
       "[22] \"Am I OK?\"                             \n",
       "[23] \"Kinds of Kindness\"                    \n",
       "[24] \"The Ministry of Ungentlemanly Warfare\"\n",
       "[25] \"Atlas\"                                "
      ]
     },
     "metadata": {},
     "output_type": "display_data"
    },
    {
     "data": {
      "text/html": [
       "25"
      ],
      "text/latex": [
       "25"
      ],
      "text/markdown": [
       "25"
      ],
      "text/plain": [
       "[1] 25"
      ]
     },
     "metadata": {},
     "output_type": "display_data"
    },
    {
     "data": {
      "text/html": [
       "<style>\n",
       ".list-inline {list-style: none; margin:0; padding: 0}\n",
       ".list-inline>li {display: inline-block}\n",
       ".list-inline>li:not(:last-child)::after {content: \"\\00b7\"; padding: 0 .5ex}\n",
       "</style>\n",
       "<ol class=list-inline><li>'2023'</li><li>'2024'</li><li>'2024'</li><li>'2024'</li><li>'2024'</li><li>'2024'</li><li>'2024'</li><li>'2023'</li><li>'2024'</li><li>'2015'</li><li>'2024'</li><li>'2024'</li><li>'2024'</li><li>'2024'</li><li>'2024'</li><li>'2024'</li><li>'2023'</li><li>'2015'</li><li>'2023'</li><li>'2024'</li><li>'2024'</li><li>'2022'</li><li>'2024'</li><li>'2024'</li><li>'2024'</li></ol>\n"
      ],
      "text/latex": [
       "\\begin{enumerate*}\n",
       "\\item '2023'\n",
       "\\item '2024'\n",
       "\\item '2024'\n",
       "\\item '2024'\n",
       "\\item '2024'\n",
       "\\item '2024'\n",
       "\\item '2024'\n",
       "\\item '2023'\n",
       "\\item '2024'\n",
       "\\item '2015'\n",
       "\\item '2024'\n",
       "\\item '2024'\n",
       "\\item '2024'\n",
       "\\item '2024'\n",
       "\\item '2024'\n",
       "\\item '2024'\n",
       "\\item '2023'\n",
       "\\item '2015'\n",
       "\\item '2023'\n",
       "\\item '2024'\n",
       "\\item '2024'\n",
       "\\item '2022'\n",
       "\\item '2024'\n",
       "\\item '2024'\n",
       "\\item '2024'\n",
       "\\end{enumerate*}\n"
      ],
      "text/markdown": [
       "1. '2023'\n",
       "2. '2024'\n",
       "3. '2024'\n",
       "4. '2024'\n",
       "5. '2024'\n",
       "6. '2024'\n",
       "7. '2024'\n",
       "8. '2023'\n",
       "9. '2024'\n",
       "10. '2015'\n",
       "11. '2024'\n",
       "12. '2024'\n",
       "13. '2024'\n",
       "14. '2024'\n",
       "15. '2024'\n",
       "16. '2024'\n",
       "17. '2023'\n",
       "18. '2015'\n",
       "19. '2023'\n",
       "20. '2024'\n",
       "21. '2024'\n",
       "22. '2022'\n",
       "23. '2024'\n",
       "24. '2024'\n",
       "25. '2024'\n",
       "\n",
       "\n"
      ],
      "text/plain": [
       " [1] \"2023\" \"2024\" \"2024\" \"2024\" \"2024\" \"2024\" \"2024\" \"2023\" \"2024\" \"2015\"\n",
       "[11] \"2024\" \"2024\" \"2024\" \"2024\" \"2024\" \"2024\" \"2023\" \"2015\" \"2023\" \"2024\"\n",
       "[21] \"2024\" \"2022\" \"2024\" \"2024\" \"2024\""
      ]
     },
     "metadata": {},
     "output_type": "display_data"
    },
    {
     "data": {
      "text/html": [
       "25"
      ],
      "text/latex": [
       "25"
      ],
      "text/markdown": [
       "25"
      ],
      "text/plain": [
       "[1] 25"
      ]
     },
     "metadata": {},
     "output_type": "display_data"
    },
    {
     "data": {
      "text/html": [
       "<style>\n",
       ".list-inline {list-style: none; margin:0; padding: 0}\n",
       ".list-inline>li {display: inline-block}\n",
       ".list-inline>li:not(:last-child)::after {content: \"\\00b7\"; padding: 0 .5ex}\n",
       "</style>\n",
       "<ol class=list-inline><li>'1h 55m'</li><li>'1h 55m'</li><li>'1h 36m'</li><li>'2h 28m'</li><li>'1h 44m'</li><li>'1h 42m'</li><li>'2h 6m'</li><li>'2h 4m'</li><li>'1h 49m'</li><li>'1h 35m'</li><li>'2h 46m'</li><li>'2h 25m'</li><li>'1h 31m'</li><li>'2h 20m'</li><li>'2h 11m'</li><li>'2h 7m'</li><li>'1h 56m'</li><li>'2h'</li><li>'1h 43m'</li><li>'1h 59m'</li><li>'1h 44m'</li><li>'1h 26m'</li><li>'2h 44m'</li><li>'2h'</li><li>'1h 58m'</li></ol>\n"
      ],
      "text/latex": [
       "\\begin{enumerate*}\n",
       "\\item '1h 55m'\n",
       "\\item '1h 55m'\n",
       "\\item '1h 36m'\n",
       "\\item '2h 28m'\n",
       "\\item '1h 44m'\n",
       "\\item '1h 42m'\n",
       "\\item '2h 6m'\n",
       "\\item '2h 4m'\n",
       "\\item '1h 49m'\n",
       "\\item '1h 35m'\n",
       "\\item '2h 46m'\n",
       "\\item '2h 25m'\n",
       "\\item '1h 31m'\n",
       "\\item '2h 20m'\n",
       "\\item '2h 11m'\n",
       "\\item '2h 7m'\n",
       "\\item '1h 56m'\n",
       "\\item '2h'\n",
       "\\item '1h 43m'\n",
       "\\item '1h 59m'\n",
       "\\item '1h 44m'\n",
       "\\item '1h 26m'\n",
       "\\item '2h 44m'\n",
       "\\item '2h'\n",
       "\\item '1h 58m'\n",
       "\\end{enumerate*}\n"
      ],
      "text/markdown": [
       "1. '1h 55m'\n",
       "2. '1h 55m'\n",
       "3. '1h 36m'\n",
       "4. '2h 28m'\n",
       "5. '1h 44m'\n",
       "6. '1h 42m'\n",
       "7. '2h 6m'\n",
       "8. '2h 4m'\n",
       "9. '1h 49m'\n",
       "10. '1h 35m'\n",
       "11. '2h 46m'\n",
       "12. '2h 25m'\n",
       "13. '1h 31m'\n",
       "14. '2h 20m'\n",
       "15. '2h 11m'\n",
       "16. '2h 7m'\n",
       "17. '1h 56m'\n",
       "18. '2h'\n",
       "19. '1h 43m'\n",
       "20. '1h 59m'\n",
       "21. '1h 44m'\n",
       "22. '1h 26m'\n",
       "23. '2h 44m'\n",
       "24. '2h'\n",
       "25. '1h 58m'\n",
       "\n",
       "\n"
      ],
      "text/plain": [
       " [1] \"1h 55m\" \"1h 55m\" \"1h 36m\" \"2h 28m\" \"1h 44m\" \"1h 42m\" \"2h 6m\"  \"2h 4m\" \n",
       " [9] \"1h 49m\" \"1h 35m\" \"2h 46m\" \"2h 25m\" \"1h 31m\" \"2h 20m\" \"2h 11m\" \"2h 7m\" \n",
       "[17] \"1h 56m\" \"2h\"     \"1h 43m\" \"1h 59m\" \"1h 44m\" \"1h 26m\" \"2h 44m\" \"2h\"    \n",
       "[25] \"1h 58m\""
      ]
     },
     "metadata": {},
     "output_type": "display_data"
    },
    {
     "data": {
      "text/html": [
       "24"
      ],
      "text/latex": [
       "24"
      ],
      "text/markdown": [
       "24"
      ],
      "text/plain": [
       "[1] 24"
      ]
     },
     "metadata": {},
     "output_type": "display_data"
    },
    {
     "data": {
      "text/html": [
       "<style>\n",
       ".list-inline {list-style: none; margin:0; padding: 0}\n",
       ".list-inline>li {display: inline-block}\n",
       ".list-inline>li:not(:last-child)::after {content: \"\\00b7\"; padding: 0 .5ex}\n",
       "</style>\n",
       "<ol class=list-inline><li>'R'</li><li>'R'</li><li>'PG'</li><li>'R'</li><li>'TV-MA'</li><li>'PG-13'</li><li>'PG-13'</li><li>'PG-13'</li><li>'R'</li><li>'PG'</li><li>'PG-13'</li><li>'PG-13'</li><li>'R'</li><li>'R'</li><li>'R'</li><li>'R'</li><li>'R'</li><li>'R'</li><li>'R'</li><li>'PG'</li><li>'R'</li><li>'R'</li><li>'R'</li><li>'PG-13'</li></ol>\n"
      ],
      "text/latex": [
       "\\begin{enumerate*}\n",
       "\\item 'R'\n",
       "\\item 'R'\n",
       "\\item 'PG'\n",
       "\\item 'R'\n",
       "\\item 'TV-MA'\n",
       "\\item 'PG-13'\n",
       "\\item 'PG-13'\n",
       "\\item 'PG-13'\n",
       "\\item 'R'\n",
       "\\item 'PG'\n",
       "\\item 'PG-13'\n",
       "\\item 'PG-13'\n",
       "\\item 'R'\n",
       "\\item 'R'\n",
       "\\item 'R'\n",
       "\\item 'R'\n",
       "\\item 'R'\n",
       "\\item 'R'\n",
       "\\item 'R'\n",
       "\\item 'PG'\n",
       "\\item 'R'\n",
       "\\item 'R'\n",
       "\\item 'R'\n",
       "\\item 'PG-13'\n",
       "\\end{enumerate*}\n"
      ],
      "text/markdown": [
       "1. 'R'\n",
       "2. 'R'\n",
       "3. 'PG'\n",
       "4. 'R'\n",
       "5. 'TV-MA'\n",
       "6. 'PG-13'\n",
       "7. 'PG-13'\n",
       "8. 'PG-13'\n",
       "9. 'R'\n",
       "10. 'PG'\n",
       "11. 'PG-13'\n",
       "12. 'PG-13'\n",
       "13. 'R'\n",
       "14. 'R'\n",
       "15. 'R'\n",
       "16. 'R'\n",
       "17. 'R'\n",
       "18. 'R'\n",
       "19. 'R'\n",
       "20. 'PG'\n",
       "21. 'R'\n",
       "22. 'R'\n",
       "23. 'R'\n",
       "24. 'PG-13'\n",
       "\n",
       "\n"
      ],
      "text/plain": [
       " [1] \"R\"     \"R\"     \"PG\"    \"R\"     \"TV-MA\" \"PG-13\" \"PG-13\" \"PG-13\" \"R\"    \n",
       "[10] \"PG\"    \"PG-13\" \"PG-13\" \"R\"     \"R\"     \"R\"     \"R\"     \"R\"     \"R\"    \n",
       "[19] \"R\"     \"PG\"    \"R\"     \"R\"     \"R\"     \"PG-13\""
      ]
     },
     "metadata": {},
     "output_type": "display_data"
    },
    {
     "data": {
      "text/html": [
       "25"
      ],
      "text/latex": [
       "25"
      ],
      "text/markdown": [
       "25"
      ],
      "text/plain": [
       "[1] 25"
      ]
     },
     "metadata": {},
     "output_type": "display_data"
    },
    {
     "data": {
      "text/html": [
       "<style>\n",
       ".list-inline {list-style: none; margin:0; padding: 0}\n",
       ".list-inline>li {display: inline-block}\n",
       ".list-inline>li:not(:last-child)::after {content: \"\\00b7\"; padding: 0 .5ex}\n",
       "</style>\n",
       "<ol class=list-inline><li>'7.0 (43K)'</li><li>'7.0 (19K)'</li><li>'8.0 (16K)'</li><li>'7.8 (85K)'</li><li>'5.2 (18K)'</li><li>'5.8 (6.9K)'</li><li>'7.0 (101K)'</li><li>'7.8 (119K)'</li><li>'7.2 (114K)'</li><li>'8.1 (795K)'</li><li>'8.6 (450K)'</li><li>'7.2 (53K)'</li><li>'4.7 (11K)'</li><li>'7.7 (12K)'</li><li>'7.3 (69K)'</li><li>''</li><li>'7.4 (1.7K)'</li><li>'8.1 (1.1M)'</li><li>'6.1 (93K)'</li><li>'6.5 (35K)'</li><li>'6.7 (14K)'</li><li>'6.1 (4K)'</li><li>'6.9 (2.7K)'</li><li>'6.9 (44K)'</li><li>'5.6 (41K)'</li></ol>\n"
      ],
      "text/latex": [
       "\\begin{enumerate*}\n",
       "\\item '7.0 (43K)'\n",
       "\\item '7.0 (19K)'\n",
       "\\item '8.0 (16K)'\n",
       "\\item '7.8 (85K)'\n",
       "\\item '5.2 (18K)'\n",
       "\\item '5.8 (6.9K)'\n",
       "\\item '7.0 (101K)'\n",
       "\\item '7.8 (119K)'\n",
       "\\item '7.2 (114K)'\n",
       "\\item '8.1 (795K)'\n",
       "\\item '8.6 (450K)'\n",
       "\\item '7.2 (53K)'\n",
       "\\item '4.7 (11K)'\n",
       "\\item '7.7 (12K)'\n",
       "\\item '7.3 (69K)'\n",
       "\\item ''\n",
       "\\item '7.4 (1.7K)'\n",
       "\\item '8.1 (1.1M)'\n",
       "\\item '6.1 (93K)'\n",
       "\\item '6.5 (35K)'\n",
       "\\item '6.7 (14K)'\n",
       "\\item '6.1 (4K)'\n",
       "\\item '6.9 (2.7K)'\n",
       "\\item '6.9 (44K)'\n",
       "\\item '5.6 (41K)'\n",
       "\\end{enumerate*}\n"
      ],
      "text/markdown": [
       "1. '7.0 (43K)'\n",
       "2. '7.0 (19K)'\n",
       "3. '8.0 (16K)'\n",
       "4. '7.8 (85K)'\n",
       "5. '5.2 (18K)'\n",
       "6. '5.8 (6.9K)'\n",
       "7. '7.0 (101K)'\n",
       "8. '7.8 (119K)'\n",
       "9. '7.2 (114K)'\n",
       "10. '8.1 (795K)'\n",
       "11. '8.6 (450K)'\n",
       "12. '7.2 (53K)'\n",
       "13. '4.7 (11K)'\n",
       "14. '7.7 (12K)'\n",
       "15. '7.3 (69K)'\n",
       "16. ''\n",
       "17. '7.4 (1.7K)'\n",
       "18. '8.1 (1.1M)'\n",
       "19. '6.1 (93K)'\n",
       "20. '6.5 (35K)'\n",
       "21. '6.7 (14K)'\n",
       "22. '6.1 (4K)'\n",
       "23. '6.9 (2.7K)'\n",
       "24. '6.9 (44K)'\n",
       "25. '5.6 (41K)'\n",
       "\n",
       "\n"
      ],
      "text/plain": [
       " [1] \"7.0 (43K)\"  \"7.0 (19K)\"  \"8.0 (16K)\"  \"7.8 (85K)\"  \"5.2 (18K)\" \n",
       " [6] \"5.8 (6.9K)\" \"7.0 (101K)\" \"7.8 (119K)\" \"7.2 (114K)\" \"8.1 (795K)\"\n",
       "[11] \"8.6 (450K)\" \"7.2 (53K)\"  \"4.7 (11K)\"  \"7.7 (12K)\"  \"7.3 (69K)\" \n",
       "[16] \"\"           \"7.4 (1.7K)\" \"8.1 (1.1M)\" \"6.1 (93K)\"  \"6.5 (35K)\" \n",
       "[21] \"6.7 (14K)\"  \"6.1 (4K)\"   \"6.9 (2.7K)\" \"6.9 (44K)\"  \"5.6 (41K)\" "
      ]
     },
     "metadata": {},
     "output_type": "display_data"
    }
   ],
   "source": [
    "movie <- webpage %>% html_nodes(xpath = \"//div[contains(@class,'cli-children')]/div[2]\") %>% html_text(trim=TRUE)\n",
    "length(movie)\n",
    "movie\n",
    "\n",
    "year <- webpage %>% html_nodes(xpath = \"//div[contains(@class,'cli-children')]/div[3]/span[1]\") %>% html_text(trim=TRUE)\n",
    "length(year)\n",
    "year\n",
    "\n",
    "length <- webpage %>% html_nodes(xpath = \"//div[contains(@class,'cli-children')]/div[3]/span[2]\") %>% html_text(trim=TRUE)\n",
    "length(length)\n",
    "length\n",
    "\n",
    "grading <- webpage %>% html_nodes(xpath = \"//div[contains(@class,'cli-children')]/div[3]/span[3]\") %>% html_text(trim=TRUE)\n",
    "length(grading)\n",
    "grading\n",
    "\n",
    "rating <- webpage %>% html_nodes(xpath = \"//div[contains(@class,'cli-children')]/span/div/span[1]\") %>% html_text(trim=TRUE)\n",
    "length(rating)\n",
    "rating"
   ]
  },
  {
   "cell_type": "code",
   "execution_count": 9,
   "id": "6bb1c5e7-332f-48f0-8795-0305a8f1b381",
   "metadata": {},
   "outputs": [],
   "source": [
    "df <- data.frame(movie, year, length, rating)\n",
    "write.csv(df, file = 'practice2.csv', row.names=FALSE)"
   ]
  },
  {
   "cell_type": "markdown",
   "id": "f2ef6bc0-a80b-4e0e-b2a5-892de43b5d83",
   "metadata": {},
   "source": [
    "**Web scraping using `for` loop**\n",
    "\n",
    "If you look at the above example, you will notice that grading is missing for a movie. In this case, creating a balanced table is not possible. To resolve this issue, we need to use looping."
   ]
  },
  {
   "cell_type": "code",
   "execution_count": 10,
   "id": "c50dd062-1364-4f7f-acc9-66a0d2314d33",
   "metadata": {},
   "outputs": [],
   "source": [
    "elems <- webpage %>% html_nodes(xpath = \"//div[contains(@class,'cli-children')]\")\n",
    "\n",
    "movie <- c()\n",
    "year <- c()\n",
    "length <- c()\n",
    "rating <- c()\n",
    "grading <- c()\n",
    "\n",
    "for (e in elems) {\n",
    "    val <- e %>% html_nodes(xpath = \"div[2]\") %>% html_text(trim=TRUE)\n",
    "    movie <- c(movie, ifelse(length(val) == 0,\"\",val))\n",
    "\n",
    "    val <- e %>% html_nodes(xpath = \"div[3]/span[1]\") %>% html_text(trim=TRUE)\n",
    "    year <- c(year, ifelse(length(val) == 0,\"\",val))\n",
    "\n",
    "    val <- e %>% html_nodes(xpath = \"div[3]/span[2]\") %>% html_text(trim=TRUE)\n",
    "    length <- c(length, ifelse(length(val) == 0,\"\",val))\n",
    "\n",
    "    val <- e %>% html_nodes(xpath = \"div[3]/span[3]\") %>% html_text(trim=TRUE)\n",
    "    grading <- c(grading, ifelse(length(val) == 0,\"\",val))\n",
    "\n",
    "    val <- e %>% html_nodes(xpath = \"span/div/span[1]\") %>% html_text(trim=TRUE)\n",
    "    rating <- c(rating, ifelse(length(val) == 0,\"\",val))\n",
    "    \n",
    "}"
   ]
  },
  {
   "cell_type": "code",
   "execution_count": 11,
   "id": "52ea6b0d-ecd2-43de-ab78-104e948f9f4c",
   "metadata": {},
   "outputs": [
    {
     "data": {
      "text/html": [
       "<table class=\"dataframe\">\n",
       "<caption>A data.frame: 6 × 5</caption>\n",
       "<thead>\n",
       "\t<tr><th></th><th scope=col>movie</th><th scope=col>year</th><th scope=col>length</th><th scope=col>grading</th><th scope=col>rating</th></tr>\n",
       "\t<tr><th></th><th scope=col>&lt;chr&gt;</th><th scope=col>&lt;chr&gt;</th><th scope=col>&lt;chr&gt;</th><th scope=col>&lt;chr&gt;</th><th scope=col>&lt;chr&gt;</th></tr>\n",
       "</thead>\n",
       "<tbody>\n",
       "\t<tr><th scope=row>1</th><td>Hit Man                </td><td>2023</td><td>1h 55m</td><td>R    </td><td>7.0 (43K) </td></tr>\n",
       "\t<tr><th scope=row>2</th><td>Bad Boys: Ride or Die  </td><td>2024</td><td>1h 55m</td><td>R    </td><td>7.0 (19K) </td></tr>\n",
       "\t<tr><th scope=row>3</th><td>Inside Out 2           </td><td>2024</td><td>1h 36m</td><td>PG   </td><td>8.0 (16K) </td></tr>\n",
       "\t<tr><th scope=row>4</th><td>Furiosa: A Mad Max Saga</td><td>2024</td><td>2h 28m</td><td>R    </td><td>7.8 (85K) </td></tr>\n",
       "\t<tr><th scope=row>5</th><td>Sous la Seine          </td><td>2024</td><td>1h 44m</td><td>TV-MA</td><td>5.2 (18K) </td></tr>\n",
       "\t<tr><th scope=row>6</th><td>The Watchers           </td><td>2024</td><td>1h 42m</td><td>PG-13</td><td>5.8 (6.9K)</td></tr>\n",
       "</tbody>\n",
       "</table>\n"
      ],
      "text/latex": [
       "A data.frame: 6 × 5\n",
       "\\begin{tabular}{r|lllll}\n",
       "  & movie & year & length & grading & rating\\\\\n",
       "  & <chr> & <chr> & <chr> & <chr> & <chr>\\\\\n",
       "\\hline\n",
       "\t1 & Hit Man                 & 2023 & 1h 55m & R     & 7.0 (43K) \\\\\n",
       "\t2 & Bad Boys: Ride or Die   & 2024 & 1h 55m & R     & 7.0 (19K) \\\\\n",
       "\t3 & Inside Out 2            & 2024 & 1h 36m & PG    & 8.0 (16K) \\\\\n",
       "\t4 & Furiosa: A Mad Max Saga & 2024 & 2h 28m & R     & 7.8 (85K) \\\\\n",
       "\t5 & Sous la Seine           & 2024 & 1h 44m & TV-MA & 5.2 (18K) \\\\\n",
       "\t6 & The Watchers            & 2024 & 1h 42m & PG-13 & 5.8 (6.9K)\\\\\n",
       "\\end{tabular}\n"
      ],
      "text/markdown": [
       "\n",
       "A data.frame: 6 × 5\n",
       "\n",
       "| <!--/--> | movie &lt;chr&gt; | year &lt;chr&gt; | length &lt;chr&gt; | grading &lt;chr&gt; | rating &lt;chr&gt; |\n",
       "|---|---|---|---|---|---|\n",
       "| 1 | Hit Man                 | 2023 | 1h 55m | R     | 7.0 (43K)  |\n",
       "| 2 | Bad Boys: Ride or Die   | 2024 | 1h 55m | R     | 7.0 (19K)  |\n",
       "| 3 | Inside Out 2            | 2024 | 1h 36m | PG    | 8.0 (16K)  |\n",
       "| 4 | Furiosa: A Mad Max Saga | 2024 | 2h 28m | R     | 7.8 (85K)  |\n",
       "| 5 | Sous la Seine           | 2024 | 1h 44m | TV-MA | 5.2 (18K)  |\n",
       "| 6 | The Watchers            | 2024 | 1h 42m | PG-13 | 5.8 (6.9K) |\n",
       "\n"
      ],
      "text/plain": [
       "  movie                   year length grading rating    \n",
       "1 Hit Man                 2023 1h 55m R       7.0 (43K) \n",
       "2 Bad Boys: Ride or Die   2024 1h 55m R       7.0 (19K) \n",
       "3 Inside Out 2            2024 1h 36m PG      8.0 (16K) \n",
       "4 Furiosa: A Mad Max Saga 2024 2h 28m R       7.8 (85K) \n",
       "5 Sous la Seine           2024 1h 44m TV-MA   5.2 (18K) \n",
       "6 The Watchers            2024 1h 42m PG-13   5.8 (6.9K)"
      ]
     },
     "metadata": {},
     "output_type": "display_data"
    }
   ],
   "source": [
    "df <- data.frame(movie, year, length, grading, rating)\n",
    "head(df)\n",
    "write.csv(df, file = 'practice2_forloop.csv', row.names=FALSE)"
   ]
  }
 ],
 "metadata": {
  "kernelspec": {
   "display_name": "R",
   "language": "R",
   "name": "ir"
  },
  "language_info": {
   "codemirror_mode": "r",
   "file_extension": ".r",
   "mimetype": "text/x-r-source",
   "name": "R",
   "pygments_lexer": "r",
   "version": "4.4.1"
  }
 },
 "nbformat": 4,
 "nbformat_minor": 5
}
