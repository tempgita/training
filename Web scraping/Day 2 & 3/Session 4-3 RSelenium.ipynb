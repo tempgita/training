{
 "cells": [
  {
   "cell_type": "markdown",
   "id": "414e874f-adba-41b7-8df5-ee2eda7cf2e0",
   "metadata": {},
   "source": [
    "# **Using `RSelenium` for web scraping**"
   ]
  },
  {
   "cell_type": "markdown",
   "id": "a0cd86b4-6d51-4de3-b142-e6bac3e1cc9c",
   "metadata": {},
   "source": [
    "---\n",
    "### Example 5. Product price scraping from https://www.daraz.com.np/smartphones\n",
    "---"
   ]
  },
  {
   "cell_type": "code",
   "execution_count": null,
   "id": "7d4fd6b7-7825-43df-9f40-1f1085c1cee4",
   "metadata": {},
   "outputs": [],
   "source": [
    "library(rvest) #see https://rvest.tidyverse.org/articles/harvesting-the-web.html for details\n",
    "library(dplyr)\n",
    "library(RSelenium)\n",
    "library(netstat)\n",
    "library(httr)"
   ]
  },
  {
   "cell_type": "code",
   "execution_count": 2,
   "id": "f5369977-dfe3-4c32-886d-e9fc1e6b379a",
   "metadata": {},
   "outputs": [],
   "source": [
    "rD <- rsDriver(browser = \"firefox\", port = free_port())\n",
    "remDr <- rD$client\n",
    "remDr$navigate(\"https://www.daraz.com.np/smartphones\")"
   ]
  },
  {
   "cell_type": "code",
   "execution_count": 3,
   "id": "25bc7734-8a32-4d12-be9b-a28978684574",
   "metadata": {},
   "outputs": [],
   "source": [
    "product <- c()\n",
    "rating <- c()\n",
    "rating_no <- c()\n",
    "sales <- c()\n",
    "price <- c()\n",
    "\n",
    "web_scrap <- function() {\n",
    "    webpage <- read_html(remDr$getPageSource()[[1]])\n",
    "    elems <- webpage %>% html_nodes(xpath = \"//div[starts-with(@class,'description')]\")\n",
    "        for (e in elems) {\n",
    "            val <- e %>% html_nodes(xpath = \"div[1]\") %>% html_text(trim=TRUE)\n",
    "            product <<- c(product, ifelse(length(val) == 0,\"\",val))\n",
    "        \n",
    "            val <- e %>% html_nodes(xpath = \"div[2]//span[2]\") %>% html_text(trim=TRUE)\n",
    "            rating <<- c(rating, ifelse(length(val) == 0,\"\",val))\n",
    "        \n",
    "            val <- e %>% html_nodes(xpath = \"div[2]//span[3]\") %>% html_text(trim=TRUE)\n",
    "            rating_no <<- c(rating_no, ifelse(length(val) == 0,\"\",val))\n",
    "        \n",
    "            val <- e %>% html_nodes(xpath = \"div[2]/div[3]\") %>% html_text(trim=TRUE)\n",
    "            sales <<- c(sales, ifelse(length(val) == 0,\"\",val))\n",
    "        \n",
    "            val <- e %>% html_nodes(xpath = \"div[@id='id-price']//div[starts-with(@class,'current-price')]\") %>% html_text(trim=TRUE)\n",
    "            price <<- c(price, ifelse(length(val) == 0,\"\",val))\n",
    "        }\n",
    "    }"
   ]
  },
  {
   "cell_type": "code",
   "execution_count": 4,
   "id": "544b6f6d-2ae0-415b-a4e2-0f7e108cf980",
   "metadata": {},
   "outputs": [],
   "source": [
    "#navigating pages from 1 to 3 and scraping data\n",
    "for (i in 1:3) {\n",
    "    elem <- remDr$findElement(using = \"xpath\", value = sprintf('//li[@title = \"%s\" ]', i))\n",
    "    elem$clickElement()\n",
    "    web_scrap()\n",
    "    }"
   ]
  },
  {
   "cell_type": "code",
   "execution_count": 5,
   "id": "01799dd4-fbd1-4f99-9940-a19ef17f1c7a",
   "metadata": {},
   "outputs": [
    {
     "data": {
      "text/html": [
       "<table class=\"dataframe\">\n",
       "<caption>A data.frame: 6 × 5</caption>\n",
       "<thead>\n",
       "\t<tr><th></th><th scope=col>product</th><th scope=col>rating</th><th scope=col>rating_no</th><th scope=col>sales</th><th scope=col>price</th></tr>\n",
       "\t<tr><th></th><th scope=col>&lt;chr&gt;</th><th scope=col>&lt;chr&gt;</th><th scope=col>&lt;chr&gt;</th><th scope=col>&lt;chr&gt;</th><th scope=col>&lt;chr&gt;</th></tr>\n",
       "</thead>\n",
       "<tbody>\n",
       "\t<tr><th scope=row>1</th><td>Tecno Spark 20 Pro+ (16*/256 GB) | 6.78\" FHD + AMOLED Curved Screen | 120Hz Refresh Rate | 100 Days Replacement Warranty | G99 Ultra Boost Processor | 108MP Ultra Sensing Main Camera | 5000mAh Battery | 33W Super Charge</td><td>4.5/5</td><td>(39) </td><td>127 Sold</td><td>Rs.26,990</td></tr>\n",
       "\t<tr><th scope=row>2</th><td>Redmi Note 11 | 90 Hz FHD+ AMOLED Display | 50 MP AI Quad Camera | 4/64 GB - Black                                                                                                                                         </td><td>4.5/5</td><td>(115)</td><td>377 Sold</td><td>Rs.23,999</td></tr>\n",
       "\t<tr><th scope=row>3</th><td>Redmi 13C (6/128GB) | 6.74\" Dot Drop display | 90Hz Refresh Rate | 5000mAh Battery | 18W PD charging                                                                                                                       </td><td>4.4/5</td><td>(36) </td><td>156 Sold</td><td>Rs.15,999</td></tr>\n",
       "\t<tr><th scope=row>4</th><td>realme C53 (6+128 GB) | 6.74 inch HD+ IPS LCD Display | 108MP Back Camera | 5000mAh Battery with 18W Quick charge                                                                                                          </td><td>4.1/5</td><td>(18) </td><td>85 Sold </td><td>Rs.16,499</td></tr>\n",
       "\t<tr><th scope=row>5</th><td>Redmi Note 13 Pro (8/256GB) | 6.67\" AMOLED Display | MediaTek Helio G99-Ultra Processor | 5000mAh Battery | 67W Turbo Charging                                                                                             </td><td>4.3/5</td><td>(19) </td><td>80 Sold </td><td>Rs.32,999</td></tr>\n",
       "\t<tr><th scope=row>6</th><td>realme C51 (4+64 GB) | 5000mAh with 33W SUPERVOOC charge | Back Camera(s): 50MP (Samsung HM6) |  90Hz Refresh Rate |                                                                                                       </td><td>4.4/5</td><td>(8)  </td><td>40 Sold </td><td>Rs.13,499</td></tr>\n",
       "</tbody>\n",
       "</table>\n"
      ],
      "text/latex": [
       "A data.frame: 6 × 5\n",
       "\\begin{tabular}{r|lllll}\n",
       "  & product & rating & rating\\_no & sales & price\\\\\n",
       "  & <chr> & <chr> & <chr> & <chr> & <chr>\\\\\n",
       "\\hline\n",
       "\t1 & Tecno Spark 20 Pro+ (16*/256 GB) \\textbar{} 6.78\" FHD + AMOLED Curved Screen \\textbar{} 120Hz Refresh Rate \\textbar{} 100 Days Replacement Warranty \\textbar{} G99 Ultra Boost Processor \\textbar{} 108MP Ultra Sensing Main Camera \\textbar{} 5000mAh Battery \\textbar{} 33W Super Charge & 4.5/5 & (39)  & 127 Sold & Rs.26,990\\\\\n",
       "\t2 & Redmi Note 11 \\textbar{} 90 Hz FHD+ AMOLED Display \\textbar{} 50 MP AI Quad Camera \\textbar{} 4/64 GB - Black                                                                                                                                          & 4.5/5 & (115) & 377 Sold & Rs.23,999\\\\\n",
       "\t3 & Redmi 13C (6/128GB) \\textbar{} 6.74\" Dot Drop display \\textbar{} 90Hz Refresh Rate \\textbar{} 5000mAh Battery \\textbar{} 18W PD charging                                                                                                                        & 4.4/5 & (36)  & 156 Sold & Rs.15,999\\\\\n",
       "\t4 & realme C53 (6+128 GB) \\textbar{} 6.74 inch HD+ IPS LCD Display \\textbar{} 108MP Back Camera \\textbar{} 5000mAh Battery with 18W Quick charge                                                                                                           & 4.1/5 & (18)  & 85 Sold  & Rs.16,499\\\\\n",
       "\t5 & Redmi Note 13 Pro (8/256GB) \\textbar{} 6.67\" AMOLED Display \\textbar{} MediaTek Helio G99-Ultra Processor \\textbar{} 5000mAh Battery \\textbar{} 67W Turbo Charging                                                                                              & 4.3/5 & (19)  & 80 Sold  & Rs.32,999\\\\\n",
       "\t6 & realme C51 (4+64 GB) \\textbar{} 5000mAh with 33W SUPERVOOC charge \\textbar{} Back Camera(s): 50MP (Samsung HM6) \\textbar{}  90Hz Refresh Rate \\textbar{}                                                                                                        & 4.4/5 & (8)   & 40 Sold  & Rs.13,499\\\\\n",
       "\\end{tabular}\n"
      ],
      "text/markdown": [
       "\n",
       "A data.frame: 6 × 5\n",
       "\n",
       "| <!--/--> | product &lt;chr&gt; | rating &lt;chr&gt; | rating_no &lt;chr&gt; | sales &lt;chr&gt; | price &lt;chr&gt; |\n",
       "|---|---|---|---|---|---|\n",
       "| 1 | Tecno Spark 20 Pro+ (16*/256 GB) | 6.78\" FHD + AMOLED Curved Screen | 120Hz Refresh Rate | 100 Days Replacement Warranty | G99 Ultra Boost Processor | 108MP Ultra Sensing Main Camera | 5000mAh Battery | 33W Super Charge | 4.5/5 | (39)  | 127 Sold | Rs.26,990 |\n",
       "| 2 | Redmi Note 11 | 90 Hz FHD+ AMOLED Display | 50 MP AI Quad Camera | 4/64 GB - Black                                                                                                                                          | 4.5/5 | (115) | 377 Sold | Rs.23,999 |\n",
       "| 3 | Redmi 13C (6/128GB) | 6.74\" Dot Drop display | 90Hz Refresh Rate | 5000mAh Battery | 18W PD charging                                                                                                                        | 4.4/5 | (36)  | 156 Sold | Rs.15,999 |\n",
       "| 4 | realme C53 (6+128 GB) | 6.74 inch HD+ IPS LCD Display | 108MP Back Camera | 5000mAh Battery with 18W Quick charge                                                                                                           | 4.1/5 | (18)  | 85 Sold  | Rs.16,499 |\n",
       "| 5 | Redmi Note 13 Pro (8/256GB) | 6.67\" AMOLED Display | MediaTek Helio G99-Ultra Processor | 5000mAh Battery | 67W Turbo Charging                                                                                              | 4.3/5 | (19)  | 80 Sold  | Rs.32,999 |\n",
       "| 6 | realme C51 (4+64 GB) | 5000mAh with 33W SUPERVOOC charge | Back Camera(s): 50MP (Samsung HM6) |  90Hz Refresh Rate |                                                                                                        | 4.4/5 | (8)   | 40 Sold  | Rs.13,499 |\n",
       "\n"
      ],
      "text/plain": [
       "  product                                                                                                                                                                                                                    \n",
       "1 Tecno Spark 20 Pro+ (16*/256 GB) | 6.78\" FHD + AMOLED Curved Screen | 120Hz Refresh Rate | 100 Days Replacement Warranty | G99 Ultra Boost Processor | 108MP Ultra Sensing Main Camera | 5000mAh Battery | 33W Super Charge\n",
       "2 Redmi Note 11 | 90 Hz FHD+ AMOLED Display | 50 MP AI Quad Camera | 4/64 GB - Black                                                                                                                                         \n",
       "3 Redmi 13C (6/128GB) | 6.74\" Dot Drop display | 90Hz Refresh Rate | 5000mAh Battery | 18W PD charging                                                                                                                       \n",
       "4 realme C53 (6+128 GB) | 6.74 inch HD+ IPS LCD Display | 108MP Back Camera | 5000mAh Battery with 18W Quick charge                                                                                                          \n",
       "5 Redmi Note 13 Pro (8/256GB) | 6.67\" AMOLED Display | MediaTek Helio G99-Ultra Processor | 5000mAh Battery | 67W Turbo Charging                                                                                             \n",
       "6 realme C51 (4+64 GB) | 5000mAh with 33W SUPERVOOC charge | Back Camera(s): 50MP (Samsung HM6) |  90Hz Refresh Rate |                                                                                                       \n",
       "  rating rating_no sales    price    \n",
       "1 4.5/5  (39)      127 Sold Rs.26,990\n",
       "2 4.5/5  (115)     377 Sold Rs.23,999\n",
       "3 4.4/5  (36)      156 Sold Rs.15,999\n",
       "4 4.1/5  (18)      85 Sold  Rs.16,499\n",
       "5 4.3/5  (19)      80 Sold  Rs.32,999\n",
       "6 4.4/5  (8)       40 Sold  Rs.13,499"
      ]
     },
     "metadata": {},
     "output_type": "display_data"
    }
   ],
   "source": [
    "df <- data.frame(product, rating, rating_no, sales, price)\n",
    "head(df)\n",
    "write.csv(df,file = 'example5.csv')"
   ]
  },
  {
   "cell_type": "markdown",
   "id": "1d983fe3-ee45-42ee-ade4-6c9c2cfd6cab",
   "metadata": {},
   "source": [
    "---\n",
    "### Practice 3. From https://www.sharesansar.com/today-share-price, scrape stock data of Commercial Bank from date 2024-06-06 to 2024-06-11\n",
    "---"
   ]
  },
  {
   "cell_type": "code",
   "execution_count": 6,
   "id": "6da0e362-0d80-4bc4-98b9-2cfac7d22d35",
   "metadata": {},
   "outputs": [],
   "source": [
    "#loading the website\n",
    "remDr$navigate(\"https://www.sharesansar.com/today-share-price\")"
   ]
  },
  {
   "cell_type": "code",
   "execution_count": 7,
   "id": "0f85aec3-6cc3-495a-b586-8c1d2ccdc6a4",
   "metadata": {},
   "outputs": [],
   "source": [
    "#clicking on the dropdown box of sector\n",
    "elem <- remDr$findElement(using = \"xpath\", \"//span[@id='select2-sector-container']\")\n",
    "elem$clickElement()\n",
    "\n",
    "#Finding input field to type\n",
    "elem <- remDr$findElement(using = \"xpath\", \"//input[@role='textbox' and @type='search']\")\n",
    "elem$sendKeysToElement(list(\"Commercial Bank\")) #typing Commercial Bank\n",
    "elem$sendKeysToElement(list(key = \"enter\")) #sending Enter key signal\n",
    "\n",
    "#list of date to scrape\n",
    "lst_date <- c('2024-06-06','2024-06-07','2024-06-08','2024-06-09', '2024-06-10', '2024-06-11')\n",
    "\n",
    "#removing any previous dataframe named df_stock\n",
    "if (exists('df_stock')){\n",
    "    rm(df_stock)\n",
    "}\n",
    "\n",
    "for (l in lst_date) {\n",
    "    elem <- remDr$findElement(using = \"xpath\", \"//input[@name='date']\")\n",
    "    elem$clearElement() #clearing the input filed\n",
    "    elem$sendKeysToElement(list(l)) #entering the date\n",
    "    elem$sendKeysToElement(list(key = \"enter\")) #sending Enter key signal\n",
    "\n",
    "    elem <- remDr$findElement(using = \"xpath\", '//button[@id=\"btn_todayshareprice_submit\"]')\n",
    "    elem$clickElement()\n",
    "    Sys.sleep(3) #waiting 3 seconds to allow the page to fully load\n",
    "\n",
    "    webpage <- read_html(remDr$getPageSource()[[1]]) #obtaining html code from the page\n",
    "\n",
    "    if (grepl('No Record Found.', webpage) == FALSE) { #checking whether No record found is displayed in the page or not\n",
    "        tbl <- webpage %>% html_table()\n",
    "        dd <- tbl[[2]] #the required data table is in the second index\n",
    "        dd$date_en <- l #adding a date column\n",
    "    \n",
    "        if (exists('df_stock')){\n",
    "            df_stock <- rbind(df_stock, dd)\n",
    "        } else {\n",
    "            df_stock <- dd\n",
    "        }\n",
    "    }\n",
    "}"
   ]
  },
  {
   "cell_type": "code",
   "execution_count": 8,
   "id": "c134f3a4-c9c1-400d-b9ad-dcaff48a7f4d",
   "metadata": {},
   "outputs": [
    {
     "data": {
      "text/html": [
       "<table class=\"dataframe\">\n",
       "<caption>A tibble: 6 × 20</caption>\n",
       "<thead>\n",
       "\t<tr><th scope=col>S.No</th><th scope=col>Symbol</th><th scope=col>Conf.</th><th scope=col>Open</th><th scope=col>High</th><th scope=col>Low</th><th scope=col>Close</th><th scope=col>VWAP</th><th scope=col>Vol</th><th scope=col>Prev. Close</th><th scope=col>Turnover</th><th scope=col>Trans.</th><th scope=col>Diff</th><th scope=col>Range</th><th scope=col>Diff %</th><th scope=col>Range %</th><th scope=col>VWAP %</th><th scope=col>52 Weeks High</th><th scope=col>52 Weeks Low</th><th scope=col>date_en</th></tr>\n",
       "\t<tr><th scope=col>&lt;int&gt;</th><th scope=col>&lt;chr&gt;</th><th scope=col>&lt;dbl&gt;</th><th scope=col>&lt;dbl&gt;</th><th scope=col>&lt;dbl&gt;</th><th scope=col>&lt;dbl&gt;</th><th scope=col>&lt;dbl&gt;</th><th scope=col>&lt;dbl&gt;</th><th scope=col>&lt;chr&gt;</th><th scope=col>&lt;dbl&gt;</th><th scope=col>&lt;chr&gt;</th><th scope=col>&lt;int&gt;</th><th scope=col>&lt;dbl&gt;</th><th scope=col>&lt;dbl&gt;</th><th scope=col>&lt;dbl&gt;</th><th scope=col>&lt;dbl&gt;</th><th scope=col>&lt;dbl&gt;</th><th scope=col>&lt;dbl&gt;</th><th scope=col>&lt;dbl&gt;</th><th scope=col>&lt;chr&gt;</th></tr>\n",
       "</thead>\n",
       "<tbody>\n",
       "\t<tr><td>1</td><td>ADBL </td><td>44.64</td><td>268.5</td><td>268.5</td><td>260.0</td><td>261.9</td><td>260.75</td><td>23,243.00</td><td>264.0</td><td>6,060,520.50 </td><td>168</td><td>-2.1</td><td>8.5</td><td>-0.80</td><td>3.27</td><td> 0.44</td><td>292.9</td><td>223.0</td><td>2024-06-06</td></tr>\n",
       "\t<tr><td>2</td><td>CZBIL</td><td>39.02</td><td>167.1</td><td>168.0</td><td>165.2</td><td>167.0</td><td>166.06</td><td>29,887.00</td><td>168.0</td><td>4,963,024.60 </td><td> 83</td><td>-1.0</td><td>2.8</td><td>-0.60</td><td>1.69</td><td> 0.56</td><td>207.8</td><td>152.5</td><td>2024-06-06</td></tr>\n",
       "\t<tr><td>3</td><td>EBL  </td><td>45.35</td><td>528.1</td><td>528.1</td><td>521.2</td><td>528.0</td><td>524.52</td><td>27,100.00</td><td>528.9</td><td>14,214,538.10</td><td>144</td><td>-0.9</td><td>6.9</td><td>-0.17</td><td>1.32</td><td> 0.66</td><td>633.0</td><td>448.0</td><td>2024-06-06</td></tr>\n",
       "\t<tr><td>4</td><td>GBIME</td><td>39.92</td><td>183.0</td><td>184.0</td><td>180.1</td><td>180.5</td><td>180.89</td><td>64,245.00</td><td>183.9</td><td>11,621,120.20</td><td>340</td><td>-3.4</td><td>3.9</td><td>-1.85</td><td>2.17</td><td>-0.21</td><td>241.9</td><td>170.0</td><td>2024-06-06</td></tr>\n",
       "\t<tr><td>5</td><td>HBL  </td><td>41.49</td><td>190.0</td><td>190.0</td><td>185.0</td><td>187.5</td><td>186.92</td><td>27,461.00</td><td>189.5</td><td>5,133,072.20 </td><td>134</td><td>-2.0</td><td>5.0</td><td>-1.06</td><td>2.70</td><td> 0.31</td><td>240.0</td><td>167.1</td><td>2024-06-06</td></tr>\n",
       "\t<tr><td>6</td><td>KBL  </td><td>38.03</td><td>143.8</td><td>143.8</td><td>138.3</td><td>140.0</td><td>139.14</td><td>59,331.00</td><td>141.0</td><td>8,255,146.10 </td><td>333</td><td>-1.0</td><td>5.5</td><td>-0.71</td><td>3.98</td><td> 0.62</td><td>195.8</td><td>129.6</td><td>2024-06-06</td></tr>\n",
       "</tbody>\n",
       "</table>\n"
      ],
      "text/latex": [
       "A tibble: 6 × 20\n",
       "\\begin{tabular}{llllllllllllllllllll}\n",
       " S.No & Symbol & Conf. & Open & High & Low & Close & VWAP & Vol & Prev. Close & Turnover & Trans. & Diff & Range & Diff \\% & Range \\% & VWAP \\% & 52 Weeks High & 52 Weeks Low & date\\_en\\\\\n",
       " <int> & <chr> & <dbl> & <dbl> & <dbl> & <dbl> & <dbl> & <dbl> & <chr> & <dbl> & <chr> & <int> & <dbl> & <dbl> & <dbl> & <dbl> & <dbl> & <dbl> & <dbl> & <chr>\\\\\n",
       "\\hline\n",
       "\t 1 & ADBL  & 44.64 & 268.5 & 268.5 & 260.0 & 261.9 & 260.75 & 23,243.00 & 264.0 & 6,060,520.50  & 168 & -2.1 & 8.5 & -0.80 & 3.27 &  0.44 & 292.9 & 223.0 & 2024-06-06\\\\\n",
       "\t 2 & CZBIL & 39.02 & 167.1 & 168.0 & 165.2 & 167.0 & 166.06 & 29,887.00 & 168.0 & 4,963,024.60  &  83 & -1.0 & 2.8 & -0.60 & 1.69 &  0.56 & 207.8 & 152.5 & 2024-06-06\\\\\n",
       "\t 3 & EBL   & 45.35 & 528.1 & 528.1 & 521.2 & 528.0 & 524.52 & 27,100.00 & 528.9 & 14,214,538.10 & 144 & -0.9 & 6.9 & -0.17 & 1.32 &  0.66 & 633.0 & 448.0 & 2024-06-06\\\\\n",
       "\t 4 & GBIME & 39.92 & 183.0 & 184.0 & 180.1 & 180.5 & 180.89 & 64,245.00 & 183.9 & 11,621,120.20 & 340 & -3.4 & 3.9 & -1.85 & 2.17 & -0.21 & 241.9 & 170.0 & 2024-06-06\\\\\n",
       "\t 5 & HBL   & 41.49 & 190.0 & 190.0 & 185.0 & 187.5 & 186.92 & 27,461.00 & 189.5 & 5,133,072.20  & 134 & -2.0 & 5.0 & -1.06 & 2.70 &  0.31 & 240.0 & 167.1 & 2024-06-06\\\\\n",
       "\t 6 & KBL   & 38.03 & 143.8 & 143.8 & 138.3 & 140.0 & 139.14 & 59,331.00 & 141.0 & 8,255,146.10  & 333 & -1.0 & 5.5 & -0.71 & 3.98 &  0.62 & 195.8 & 129.6 & 2024-06-06\\\\\n",
       "\\end{tabular}\n"
      ],
      "text/markdown": [
       "\n",
       "A tibble: 6 × 20\n",
       "\n",
       "| S.No &lt;int&gt; | Symbol &lt;chr&gt; | Conf. &lt;dbl&gt; | Open &lt;dbl&gt; | High &lt;dbl&gt; | Low &lt;dbl&gt; | Close &lt;dbl&gt; | VWAP &lt;dbl&gt; | Vol &lt;chr&gt; | Prev. Close &lt;dbl&gt; | Turnover &lt;chr&gt; | Trans. &lt;int&gt; | Diff &lt;dbl&gt; | Range &lt;dbl&gt; | Diff % &lt;dbl&gt; | Range % &lt;dbl&gt; | VWAP % &lt;dbl&gt; | 52 Weeks High &lt;dbl&gt; | 52 Weeks Low &lt;dbl&gt; | date_en &lt;chr&gt; |\n",
       "|---|---|---|---|---|---|---|---|---|---|---|---|---|---|---|---|---|---|---|---|\n",
       "| 1 | ADBL  | 44.64 | 268.5 | 268.5 | 260.0 | 261.9 | 260.75 | 23,243.00 | 264.0 | 6,060,520.50  | 168 | -2.1 | 8.5 | -0.80 | 3.27 |  0.44 | 292.9 | 223.0 | 2024-06-06 |\n",
       "| 2 | CZBIL | 39.02 | 167.1 | 168.0 | 165.2 | 167.0 | 166.06 | 29,887.00 | 168.0 | 4,963,024.60  |  83 | -1.0 | 2.8 | -0.60 | 1.69 |  0.56 | 207.8 | 152.5 | 2024-06-06 |\n",
       "| 3 | EBL   | 45.35 | 528.1 | 528.1 | 521.2 | 528.0 | 524.52 | 27,100.00 | 528.9 | 14,214,538.10 | 144 | -0.9 | 6.9 | -0.17 | 1.32 |  0.66 | 633.0 | 448.0 | 2024-06-06 |\n",
       "| 4 | GBIME | 39.92 | 183.0 | 184.0 | 180.1 | 180.5 | 180.89 | 64,245.00 | 183.9 | 11,621,120.20 | 340 | -3.4 | 3.9 | -1.85 | 2.17 | -0.21 | 241.9 | 170.0 | 2024-06-06 |\n",
       "| 5 | HBL   | 41.49 | 190.0 | 190.0 | 185.0 | 187.5 | 186.92 | 27,461.00 | 189.5 | 5,133,072.20  | 134 | -2.0 | 5.0 | -1.06 | 2.70 |  0.31 | 240.0 | 167.1 | 2024-06-06 |\n",
       "| 6 | KBL   | 38.03 | 143.8 | 143.8 | 138.3 | 140.0 | 139.14 | 59,331.00 | 141.0 | 8,255,146.10  | 333 | -1.0 | 5.5 | -0.71 | 3.98 |  0.62 | 195.8 | 129.6 | 2024-06-06 |\n",
       "\n"
      ],
      "text/plain": [
       "  S.No Symbol Conf. Open  High  Low   Close VWAP   Vol       Prev. Close\n",
       "1 1    ADBL   44.64 268.5 268.5 260.0 261.9 260.75 23,243.00 264.0      \n",
       "2 2    CZBIL  39.02 167.1 168.0 165.2 167.0 166.06 29,887.00 168.0      \n",
       "3 3    EBL    45.35 528.1 528.1 521.2 528.0 524.52 27,100.00 528.9      \n",
       "4 4    GBIME  39.92 183.0 184.0 180.1 180.5 180.89 64,245.00 183.9      \n",
       "5 5    HBL    41.49 190.0 190.0 185.0 187.5 186.92 27,461.00 189.5      \n",
       "6 6    KBL    38.03 143.8 143.8 138.3 140.0 139.14 59,331.00 141.0      \n",
       "  Turnover      Trans. Diff Range Diff % Range % VWAP % 52 Weeks High\n",
       "1 6,060,520.50  168    -2.1 8.5   -0.80  3.27     0.44  292.9        \n",
       "2 4,963,024.60   83    -1.0 2.8   -0.60  1.69     0.56  207.8        \n",
       "3 14,214,538.10 144    -0.9 6.9   -0.17  1.32     0.66  633.0        \n",
       "4 11,621,120.20 340    -3.4 3.9   -1.85  2.17    -0.21  241.9        \n",
       "5 5,133,072.20  134    -2.0 5.0   -1.06  2.70     0.31  240.0        \n",
       "6 8,255,146.10  333    -1.0 5.5   -0.71  3.98     0.62  195.8        \n",
       "  52 Weeks Low date_en   \n",
       "1 223.0        2024-06-06\n",
       "2 152.5        2024-06-06\n",
       "3 448.0        2024-06-06\n",
       "4 170.0        2024-06-06\n",
       "5 167.1        2024-06-06\n",
       "6 129.6        2024-06-06"
      ]
     },
     "metadata": {},
     "output_type": "display_data"
    }
   ],
   "source": [
    "head(df_stock)\n",
    "write.csv(df_stock, file=\"practice3.csv\", row.names=F)"
   ]
  },
  {
   "cell_type": "markdown",
   "id": "e0a27670-5de8-4db5-8fa4-adc6c7efe36c",
   "metadata": {},
   "source": [
    "---\n",
    "### Practice 4. From https://www.daraz.com.np search for top selling `rice` products. Then, scrape rice prices from 1 to 5 pages\n",
    "---"
   ]
  },
  {
   "cell_type": "code",
   "execution_count": 9,
   "id": "4346a7a9-18f5-4624-a73a-c9a55ed41540",
   "metadata": {},
   "outputs": [],
   "source": [
    "remDr$navigate(\"https://www.daraz.com.np\")\n",
    "\n",
    "product <- c()\n",
    "rating <- c()\n",
    "rating_no <- c()\n",
    "sales <- c()\n",
    "current_price <- c()\n",
    "original_price <- c()\n",
    "\n",
    "web_scrap <- function() {\n",
    "    webpage <- read_html(remDr$getPageSource()[[1]])\n",
    "    elems <- webpage %>% html_nodes(xpath = \"//div[starts-with(@class,'description')]\")\n",
    "        for (e in elems) {\n",
    "            val <- e %>% html_nodes(xpath = \"div[1]\") %>% html_text(trim=TRUE)\n",
    "            product <<- c(product, ifelse(length(val) == 0,\"\",val))\n",
    "        \n",
    "            val <- e %>% html_nodes(xpath = \"div[2]//span[2]\") %>% html_text(trim=TRUE)\n",
    "            rating <<- c(rating, ifelse(length(val) == 0,\"\",val))\n",
    "        \n",
    "            val <- e %>% html_nodes(xpath = \"div[2]//span[3]\") %>% html_text(trim=TRUE)\n",
    "            rating_no <<- c(rating_no, ifelse(length(val) == 0,\"\",val))\n",
    "        \n",
    "            val <- e %>% html_nodes(xpath = \"div[2]/div[3]\") %>% html_text(trim=TRUE)\n",
    "            sales <<- c(sales, ifelse(length(val) == 0,\"\",val))\n",
    "        \n",
    "            val <- e %>% html_nodes(xpath = \"div[@id='id-price']//div[starts-with(@class,'current-price')]\") %>% html_text(trim=TRUE)\n",
    "            current_price <<- c(current_price, ifelse(length(val) == 0,\"\",val))\n",
    "\n",
    "            val <- e %>% html_nodes(xpath = \"div[@id='id-price']//div[starts-with(@class,'original-price')]\") %>% html_text(trim=TRUE)\n",
    "            original_price <<- c(original_price, ifelse(length(val) == 0,\"\",val))\n",
    "        }\n",
    "    }\n",
    "\n",
    "\n",
    "#searching for rice products\n",
    "elem <- remDr$findElement(using = \"xpath\", \"//input[@id='q']\")\n",
    "elem$clearElement() #clearing the input filed\n",
    "elem$sendKeysToElement(list('rice')) #entering the date\n",
    "elem$sendKeysToElement(list(key = \"enter\")) #sending Enter key signal\n",
    "Sys.sleep(5) #waiting 5 second for \n",
    "\n",
    "#sort by Top Sales\n",
    "remDr$findElement(using = \"xpath\", \"//div[@role='combobox']\")$clickElement()\n",
    "remDr$findElement(using = \"xpath\", \"//li[@title='Top Sales']\")$clickElement()"
   ]
  },
  {
   "cell_type": "code",
   "execution_count": 10,
   "id": "6bac5f96-a357-4bd1-9118-641ed4abb319",
   "metadata": {},
   "outputs": [],
   "source": [
    "#navigating pages from 1 to 5 and scraping data\n",
    "for (i in 1:5) {\n",
    "    elem <- remDr$findElement(using = \"xpath\", value = sprintf('//li[@title = \"%s\" ]', i))\n",
    "    elem$clickElement()\n",
    "    web_scrap()\n",
    "    Sys.sleep(1)\n",
    "    }"
   ]
  },
  {
   "cell_type": "code",
   "execution_count": 11,
   "id": "ccf4a617-fea9-4fd3-88bc-f5ac71e613e4",
   "metadata": {},
   "outputs": [
    {
     "data": {
      "text/html": [
       "<table class=\"dataframe\">\n",
       "<caption>A data.frame: 6 × 6</caption>\n",
       "<thead>\n",
       "\t<tr><th></th><th scope=col>product</th><th scope=col>rating</th><th scope=col>rating_no</th><th scope=col>sales</th><th scope=col>current_price</th><th scope=col>original_price</th></tr>\n",
       "\t<tr><th></th><th scope=col>&lt;chr&gt;</th><th scope=col>&lt;chr&gt;</th><th scope=col>&lt;chr&gt;</th><th scope=col>&lt;chr&gt;</th><th scope=col>&lt;chr&gt;</th><th scope=col>&lt;chr&gt;</th></tr>\n",
       "</thead>\n",
       "<tbody>\n",
       "\t<tr><th scope=row>1</th><td>Lal Qilla Brown Basmati Rice 1 kg      </td><td>4.4/5</td><td>(7) </td><td>31 Sold </td><td>Rs.410</td><td>Rs. 500  </td></tr>\n",
       "\t<tr><th scope=row>2</th><td>DhikiJato Local Anadi Chamal 1 KG      </td><td>4.5/5</td><td>(20)</td><td>145 Sold</td><td>Rs.350</td><td>         </td></tr>\n",
       "\t<tr><th scope=row>3</th><td>Dhiki Jato Jumla Marsi Chamal 1kg      </td><td>4.4/5</td><td>(10)</td><td>51 Sold </td><td>Rs.270</td><td>         </td></tr>\n",
       "\t<tr><th scope=row>4</th><td>Newari Shahi Pulao Basmati Rice 5 Kg   </td><td>4.9/5</td><td>(14)</td><td>94 Sold </td><td>Rs.995</td><td>         </td></tr>\n",
       "\t<tr><th scope=row>5</th><td>Taichin Chamal 1Kg                     </td><td>4.7/5</td><td>(12)</td><td>161 Sold</td><td>Rs.195</td><td>         </td></tr>\n",
       "\t<tr><th scope=row>6</th><td>Newari Shahi Pulao Basmati Rice  - 5 Kg</td><td>5/5  </td><td>(2) </td><td>        </td><td>Rs.995</td><td>Rs. 1,000</td></tr>\n",
       "</tbody>\n",
       "</table>\n"
      ],
      "text/latex": [
       "A data.frame: 6 × 6\n",
       "\\begin{tabular}{r|llllll}\n",
       "  & product & rating & rating\\_no & sales & current\\_price & original\\_price\\\\\n",
       "  & <chr> & <chr> & <chr> & <chr> & <chr> & <chr>\\\\\n",
       "\\hline\n",
       "\t1 & Lal Qilla Brown Basmati Rice 1 kg       & 4.4/5 & (7)  & 31 Sold  & Rs.410 & Rs. 500  \\\\\n",
       "\t2 & DhikiJato Local Anadi Chamal 1 KG       & 4.5/5 & (20) & 145 Sold & Rs.350 &          \\\\\n",
       "\t3 & Dhiki Jato Jumla Marsi Chamal 1kg       & 4.4/5 & (10) & 51 Sold  & Rs.270 &          \\\\\n",
       "\t4 & Newari Shahi Pulao Basmati Rice 5 Kg    & 4.9/5 & (14) & 94 Sold  & Rs.995 &          \\\\\n",
       "\t5 & Taichin Chamal 1Kg                      & 4.7/5 & (12) & 161 Sold & Rs.195 &          \\\\\n",
       "\t6 & Newari Shahi Pulao Basmati Rice  - 5 Kg & 5/5   & (2)  &          & Rs.995 & Rs. 1,000\\\\\n",
       "\\end{tabular}\n"
      ],
      "text/markdown": [
       "\n",
       "A data.frame: 6 × 6\n",
       "\n",
       "| <!--/--> | product &lt;chr&gt; | rating &lt;chr&gt; | rating_no &lt;chr&gt; | sales &lt;chr&gt; | current_price &lt;chr&gt; | original_price &lt;chr&gt; |\n",
       "|---|---|---|---|---|---|---|\n",
       "| 1 | Lal Qilla Brown Basmati Rice 1 kg       | 4.4/5 | (7)  | 31 Sold  | Rs.410 | Rs. 500   |\n",
       "| 2 | DhikiJato Local Anadi Chamal 1 KG       | 4.5/5 | (20) | 145 Sold | Rs.350 | <!----> |\n",
       "| 3 | Dhiki Jato Jumla Marsi Chamal 1kg       | 4.4/5 | (10) | 51 Sold  | Rs.270 | <!----> |\n",
       "| 4 | Newari Shahi Pulao Basmati Rice 5 Kg    | 4.9/5 | (14) | 94 Sold  | Rs.995 | <!----> |\n",
       "| 5 | Taichin Chamal 1Kg                      | 4.7/5 | (12) | 161 Sold | Rs.195 | <!----> |\n",
       "| 6 | Newari Shahi Pulao Basmati Rice  - 5 Kg | 5/5   | (2)  | <!----> | Rs.995 | Rs. 1,000 |\n",
       "\n"
      ],
      "text/plain": [
       "  product                                 rating rating_no sales   \n",
       "1 Lal Qilla Brown Basmati Rice 1 kg       4.4/5  (7)       31 Sold \n",
       "2 DhikiJato Local Anadi Chamal 1 KG       4.5/5  (20)      145 Sold\n",
       "3 Dhiki Jato Jumla Marsi Chamal 1kg       4.4/5  (10)      51 Sold \n",
       "4 Newari Shahi Pulao Basmati Rice 5 Kg    4.9/5  (14)      94 Sold \n",
       "5 Taichin Chamal 1Kg                      4.7/5  (12)      161 Sold\n",
       "6 Newari Shahi Pulao Basmati Rice  - 5 Kg 5/5    (2)               \n",
       "  current_price original_price\n",
       "1 Rs.410        Rs. 500       \n",
       "2 Rs.350                      \n",
       "3 Rs.270                      \n",
       "4 Rs.995                      \n",
       "5 Rs.195                      \n",
       "6 Rs.995        Rs. 1,000     "
      ]
     },
     "metadata": {},
     "output_type": "display_data"
    }
   ],
   "source": [
    "df <- data.frame(product, rating, rating_no, sales, current_price, original_price)\n",
    "head(df)\n",
    "write.csv(df,file = 'practice4.csv', row.names = F)"
   ]
  },
  {
   "cell_type": "code",
   "execution_count": 12,
   "id": "27ae95be-5f30-49a0-ad2c-8235d5e59deb",
   "metadata": {},
   "outputs": [
    {
     "data": {
      "text/html": [
       "TRUE"
      ],
      "text/latex": [
       "TRUE"
      ],
      "text/markdown": [
       "TRUE"
      ],
      "text/plain": [
       "[1] TRUE"
      ]
     },
     "metadata": {},
     "output_type": "display_data"
    }
   ],
   "source": [
    "# Close the server\n",
    "remDr$close()\n",
    "rD$server$stop()"
   ]
  }
 ],
 "metadata": {
  "kernelspec": {
   "display_name": "R",
   "language": "R",
   "name": "ir"
  },
  "language_info": {
   "codemirror_mode": "r",
   "file_extension": ".r",
   "mimetype": "text/x-r-source",
   "name": "R",
   "pygments_lexer": "r",
   "version": "4.4.1"
  }
 },
 "nbformat": 4,
 "nbformat_minor": 5
}
