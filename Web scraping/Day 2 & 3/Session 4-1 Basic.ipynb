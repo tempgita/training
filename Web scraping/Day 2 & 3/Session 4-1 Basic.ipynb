{
 "cells": [
  {
   "cell_type": "markdown",
   "id": "6094f520-8a7c-43cf-bd9b-4540579b37ff",
   "metadata": {},
   "source": [
    "# ***What is R?***\n",
    "---\n",
    "*  ### Open-source programming language and software environment\n",
    "*  ### Focuses on statistical computing and graphics\n",
    "*  ### Large and active user community with extensive libraries\n",
    "*  ### Free to use and readily available on various platforms"
   ]
  },
  {
   "cell_type": "markdown",
   "id": "8efaee0e-55e5-46fa-9748-7e3185871c02",
   "metadata": {},
   "source": [
    "# ***Why R for Web Scraping?***\n",
    "---\n",
    "*  ### Rich ecosystem of web scraping libraries: _`rvest`_, _`RSelenium`_\n",
    "*  ### Data manipulation and analysis strength of R\n",
    "*  ### Integration with popular data visualization libraries like _`ggplot2`_\n",
    "*  ### Open-source and free to use"
   ]
  },
  {
   "cell_type": "markdown",
   "id": "0dff0926-4513-4adc-90b0-f5faac91c822",
   "metadata": {},
   "source": [
    "# ***R Capabilities for Web Scraping***\n",
    "---\n",
    "* ### R goes beyond just harvesting data\n",
    "* ### Key functionalities for web scraping tasks:\n",
    "\t- ### Sending HTTP requests to websites (obtaining the content)\n",
    "\t- ### Parsing HTML structure (understanding the website's layout)\n",
    "\t- ### Extracting specific data using selectors (targeting desired information)\n",
    "\t- ### Cleaning and transforming extracted data (preparing for analysis)\n",
    "    - ### Navigating dynamic website using _`RSelenium`_ package"
   ]
  },
  {
   "cell_type": "markdown",
   "id": "3580ce4a-9e0f-4ba8-b7b8-36b4d625cb80",
   "metadata": {},
   "source": [
    "# ***Direct data import from the web***\n",
    "---\n"
   ]
  },
  {
   "cell_type": "code",
   "execution_count": 1,
   "id": "e6046ead-d91f-4a57-8759-c677f89a4721",
   "metadata": {},
   "outputs": [
    {
     "data": {
      "text/html": [
       "<table class=\"dataframe\">\n",
       "<caption>A data.frame: 6 × 11</caption>\n",
       "<thead>\n",
       "\t<tr><th></th><th scope=col>year</th><th scope=col>country</th><th scope=col>ccode</th><th scope=col>ele_rural</th><th scope=col>ele_total</th><th scope=col>ele_urban</th><th scope=col>en_int</th><th scope=col>ren_ele</th><th scope=col>ren_con</th><th scope=col>tot_ele</th><th scope=col>tfec</th></tr>\n",
       "\t<tr><th></th><th scope=col>&lt;int&gt;</th><th scope=col>&lt;chr&gt;</th><th scope=col>&lt;chr&gt;</th><th scope=col>&lt;dbl&gt;</th><th scope=col>&lt;dbl&gt;</th><th scope=col>&lt;dbl&gt;</th><th scope=col>&lt;dbl&gt;</th><th scope=col>&lt;dbl&gt;</th><th scope=col>&lt;dbl&gt;</th><th scope=col>&lt;dbl&gt;</th><th scope=col>&lt;dbl&gt;</th></tr>\n",
       "</thead>\n",
       "<tbody>\n",
       "\t<tr><th scope=row>1</th><td>1990</td><td>Afghanistan   </td><td>AFG</td><td>        NA</td><td>  0.01000</td><td> 52.03698</td><td>1.884113</td><td> 764</td><td>  6312.3920</td><td> 1128</td><td> 39639.420</td></tr>\n",
       "\t<tr><th scope=row>2</th><td>1990</td><td>Albania       </td><td>ALB</td><td>100.000000</td><td>100.00000</td><td>100.00000</td><td>7.912243</td><td>2848</td><td> 20429.1800</td><td> 3296</td><td> 80057.645</td></tr>\n",
       "\t<tr><th scope=row>3</th><td>1990</td><td>Algeria       </td><td>DZA</td><td> 96.392315</td><td> 98.27138</td><td>100.00000</td><td>3.500935</td><td> 135</td><td>   811.7773</td><td>16104</td><td>458040.442</td></tr>\n",
       "\t<tr><th scope=row>4</th><td>1990</td><td>American Samoa</td><td>ASM</td><td>        NA</td><td>       NA</td><td>       NA</td><td>      NA</td><td>   0</td><td>     0.0000</td><td>  100</td><td>   306.000</td></tr>\n",
       "\t<tr><th scope=row>5</th><td>1990</td><td>Andorra       </td><td>AND</td><td>100.000000</td><td>100.00000</td><td>100.00000</td><td>      NA</td><td> 120</td><td>   952.1450</td><td>  120</td><td>  6670.695</td></tr>\n",
       "\t<tr><th scope=row>6</th><td>1990</td><td>Angola        </td><td>AGO</td><td>  7.518615</td><td> 11.39781</td><td> 22.68237</td><td>4.605300</td><td> 725</td><td>135443.7000</td><td>  841</td><td>187451.703</td></tr>\n",
       "</tbody>\n",
       "</table>\n"
      ],
      "text/latex": [
       "A data.frame: 6 × 11\n",
       "\\begin{tabular}{r|lllllllllll}\n",
       "  & year & country & ccode & ele\\_rural & ele\\_total & ele\\_urban & en\\_int & ren\\_ele & ren\\_con & tot\\_ele & tfec\\\\\n",
       "  & <int> & <chr> & <chr> & <dbl> & <dbl> & <dbl> & <dbl> & <dbl> & <dbl> & <dbl> & <dbl>\\\\\n",
       "\\hline\n",
       "\t1 & 1990 & Afghanistan    & AFG &         NA &   0.01000 &  52.03698 & 1.884113 &  764 &   6312.3920 &  1128 &  39639.420\\\\\n",
       "\t2 & 1990 & Albania        & ALB & 100.000000 & 100.00000 & 100.00000 & 7.912243 & 2848 &  20429.1800 &  3296 &  80057.645\\\\\n",
       "\t3 & 1990 & Algeria        & DZA &  96.392315 &  98.27138 & 100.00000 & 3.500935 &  135 &    811.7773 & 16104 & 458040.442\\\\\n",
       "\t4 & 1990 & American Samoa & ASM &         NA &        NA &        NA &       NA &    0 &      0.0000 &   100 &    306.000\\\\\n",
       "\t5 & 1990 & Andorra        & AND & 100.000000 & 100.00000 & 100.00000 &       NA &  120 &    952.1450 &   120 &   6670.695\\\\\n",
       "\t6 & 1990 & Angola         & AGO &   7.518615 &  11.39781 &  22.68237 & 4.605300 &  725 & 135443.7000 &   841 & 187451.703\\\\\n",
       "\\end{tabular}\n"
      ],
      "text/markdown": [
       "\n",
       "A data.frame: 6 × 11\n",
       "\n",
       "| <!--/--> | year &lt;int&gt; | country &lt;chr&gt; | ccode &lt;chr&gt; | ele_rural &lt;dbl&gt; | ele_total &lt;dbl&gt; | ele_urban &lt;dbl&gt; | en_int &lt;dbl&gt; | ren_ele &lt;dbl&gt; | ren_con &lt;dbl&gt; | tot_ele &lt;dbl&gt; | tfec &lt;dbl&gt; |\n",
       "|---|---|---|---|---|---|---|---|---|---|---|---|\n",
       "| 1 | 1990 | Afghanistan    | AFG |         NA |   0.01000 |  52.03698 | 1.884113 |  764 |   6312.3920 |  1128 |  39639.420 |\n",
       "| 2 | 1990 | Albania        | ALB | 100.000000 | 100.00000 | 100.00000 | 7.912243 | 2848 |  20429.1800 |  3296 |  80057.645 |\n",
       "| 3 | 1990 | Algeria        | DZA |  96.392315 |  98.27138 | 100.00000 | 3.500935 |  135 |    811.7773 | 16104 | 458040.442 |\n",
       "| 4 | 1990 | American Samoa | ASM |         NA |        NA |        NA |       NA |    0 |      0.0000 |   100 |    306.000 |\n",
       "| 5 | 1990 | Andorra        | AND | 100.000000 | 100.00000 | 100.00000 |       NA |  120 |    952.1450 |   120 |   6670.695 |\n",
       "| 6 | 1990 | Angola         | AGO |   7.518615 |  11.39781 |  22.68237 | 4.605300 |  725 | 135443.7000 |   841 | 187451.703 |\n",
       "\n"
      ],
      "text/plain": [
       "  year country        ccode ele_rural  ele_total ele_urban en_int   ren_ele\n",
       "1 1990 Afghanistan    AFG           NA   0.01000  52.03698 1.884113  764   \n",
       "2 1990 Albania        ALB   100.000000 100.00000 100.00000 7.912243 2848   \n",
       "3 1990 Algeria        DZA    96.392315  98.27138 100.00000 3.500935  135   \n",
       "4 1990 American Samoa ASM           NA        NA        NA       NA    0   \n",
       "5 1990 Andorra        AND   100.000000 100.00000 100.00000       NA  120   \n",
       "6 1990 Angola         AGO     7.518615  11.39781  22.68237 4.605300  725   \n",
       "  ren_con     tot_ele tfec      \n",
       "1   6312.3920  1128    39639.420\n",
       "2  20429.1800  3296    80057.645\n",
       "3    811.7773 16104   458040.442\n",
       "4      0.0000   100      306.000\n",
       "5    952.1450   120     6670.695\n",
       "6 135443.7000   841   187451.703"
      ]
     },
     "metadata": {},
     "output_type": "display_data"
    },
    {
     "data": {
      "text/html": [
       "<table class=\"dataframe\">\n",
       "<caption>A data.frame: 6 × 3</caption>\n",
       "<thead>\n",
       "\t<tr><th></th><th scope=col>Draw.Date</th><th scope=col>Winning.Numbers</th><th scope=col>Multiplier</th></tr>\n",
       "\t<tr><th></th><th scope=col>&lt;chr&gt;</th><th scope=col>&lt;chr&gt;</th><th scope=col>&lt;int&gt;</th></tr>\n",
       "</thead>\n",
       "<tbody>\n",
       "\t<tr><th scope=row>1</th><td>09/26/2020</td><td>11 21 27 36 62 24</td><td>3</td></tr>\n",
       "\t<tr><th scope=row>2</th><td>09/30/2020</td><td>14 18 36 49 67 18</td><td>2</td></tr>\n",
       "\t<tr><th scope=row>3</th><td>10/03/2020</td><td>18 31 36 43 47 20</td><td>2</td></tr>\n",
       "\t<tr><th scope=row>4</th><td>10/07/2020</td><td>06 24 30 53 56 19</td><td>2</td></tr>\n",
       "\t<tr><th scope=row>5</th><td>10/10/2020</td><td>05 18 23 40 50 18</td><td>3</td></tr>\n",
       "\t<tr><th scope=row>6</th><td>10/14/2020</td><td>21 37 52 53 58 05</td><td>2</td></tr>\n",
       "</tbody>\n",
       "</table>\n"
      ],
      "text/latex": [
       "A data.frame: 6 × 3\n",
       "\\begin{tabular}{r|lll}\n",
       "  & Draw.Date & Winning.Numbers & Multiplier\\\\\n",
       "  & <chr> & <chr> & <int>\\\\\n",
       "\\hline\n",
       "\t1 & 09/26/2020 & 11 21 27 36 62 24 & 3\\\\\n",
       "\t2 & 09/30/2020 & 14 18 36 49 67 18 & 2\\\\\n",
       "\t3 & 10/03/2020 & 18 31 36 43 47 20 & 2\\\\\n",
       "\t4 & 10/07/2020 & 06 24 30 53 56 19 & 2\\\\\n",
       "\t5 & 10/10/2020 & 05 18 23 40 50 18 & 3\\\\\n",
       "\t6 & 10/14/2020 & 21 37 52 53 58 05 & 2\\\\\n",
       "\\end{tabular}\n"
      ],
      "text/markdown": [
       "\n",
       "A data.frame: 6 × 3\n",
       "\n",
       "| <!--/--> | Draw.Date &lt;chr&gt; | Winning.Numbers &lt;chr&gt; | Multiplier &lt;int&gt; |\n",
       "|---|---|---|---|\n",
       "| 1 | 09/26/2020 | 11 21 27 36 62 24 | 3 |\n",
       "| 2 | 09/30/2020 | 14 18 36 49 67 18 | 2 |\n",
       "| 3 | 10/03/2020 | 18 31 36 43 47 20 | 2 |\n",
       "| 4 | 10/07/2020 | 06 24 30 53 56 19 | 2 |\n",
       "| 5 | 10/10/2020 | 05 18 23 40 50 18 | 3 |\n",
       "| 6 | 10/14/2020 | 21 37 52 53 58 05 | 2 |\n",
       "\n"
      ],
      "text/plain": [
       "  Draw.Date  Winning.Numbers   Multiplier\n",
       "1 09/26/2020 11 21 27 36 62 24 3         \n",
       "2 09/30/2020 14 18 36 49 67 18 2         \n",
       "3 10/03/2020 18 31 36 43 47 20 2         \n",
       "4 10/07/2020 06 24 30 53 56 19 2         \n",
       "5 10/10/2020 05 18 23 40 50 18 3         \n",
       "6 10/14/2020 21 37 52 53 58 05 2         "
      ]
     },
     "metadata": {},
     "output_type": "display_data"
    }
   ],
   "source": [
    "df <- read.csv(\"http://s.anilz.net/wb_energy\")\n",
    "head(df)\n",
    "\n",
    "dx <- read.csv(\"https://data.ny.gov/api/views/d6yy-54nr/rows.csv\")\n",
    "head(dx)"
   ]
  },
  {
   "cell_type": "markdown",
   "id": "414e874f-adba-41b7-8df5-ee2eda7cf2e0",
   "metadata": {},
   "source": [
    "# ***Using rvest package for static website scraping***\n",
    "---\n"
   ]
  },
  {
   "cell_type": "markdown",
   "id": "a0cd86b4-6d51-4de3-b142-e6bac3e1cc9c",
   "metadata": {},
   "source": [
    "---\n",
    "### Example 1. share price scraping\n",
    "---"
   ]
  },
  {
   "cell_type": "code",
   "execution_count": null,
   "id": "7d4fd6b7-7825-43df-9f40-1f1085c1cee4",
   "metadata": {},
   "outputs": [],
   "source": [
    "#loading necessary packages\n",
    "library(rvest) #see https://rvest.tidyverse.org/articles/harvesting-the-web.html for details\n",
    "library(dplyr)\n",
    "\n",
    "#loading webpage content\n",
    "webpage <- read_html(\"https://www.sharesansar.com/today-share-price\")\n",
    "\n",
    "#extracting table from the webpage\n",
    "tables <- html_table(webpage)\n",
    "\n",
    "#checking the number of tables available in the webpage\n",
    "length(tables)"
   ]
  },
  {
   "cell_type": "code",
   "execution_count": 3,
   "id": "de9b749d-5d89-4d18-bb4b-5e1e2616364a",
   "metadata": {},
   "outputs": [
    {
     "data": {
      "text/html": [
       "<table class=\"dataframe\">\n",
       "<caption>A tibble: 6 × 21</caption>\n",
       "<thead>\n",
       "\t<tr><th scope=col>S.No</th><th scope=col>Symbol</th><th scope=col>Conf.</th><th scope=col>Open</th><th scope=col>High</th><th scope=col>Low</th><th scope=col>Close</th><th scope=col>VWAP</th><th scope=col>Vol</th><th scope=col>Prev. Close</th><th scope=col>⋯</th><th scope=col>Trans.</th><th scope=col>Diff</th><th scope=col>Range</th><th scope=col>Diff %</th><th scope=col>Range %</th><th scope=col>VWAP %</th><th scope=col>120 Days</th><th scope=col>180 Days</th><th scope=col>52 Weeks High</th><th scope=col>52 Weeks Low</th></tr>\n",
       "\t<tr><th scope=col>&lt;int&gt;</th><th scope=col>&lt;chr&gt;</th><th scope=col>&lt;dbl&gt;</th><th scope=col>&lt;chr&gt;</th><th scope=col>&lt;chr&gt;</th><th scope=col>&lt;chr&gt;</th><th scope=col>&lt;chr&gt;</th><th scope=col>&lt;chr&gt;</th><th scope=col>&lt;chr&gt;</th><th scope=col>&lt;chr&gt;</th><th scope=col>⋯</th><th scope=col>&lt;chr&gt;</th><th scope=col>&lt;dbl&gt;</th><th scope=col>&lt;chr&gt;</th><th scope=col>&lt;dbl&gt;</th><th scope=col>&lt;dbl&gt;</th><th scope=col>&lt;dbl&gt;</th><th scope=col>&lt;chr&gt;</th><th scope=col>&lt;chr&gt;</th><th scope=col>&lt;chr&gt;</th><th scope=col>&lt;chr&gt;</th></tr>\n",
       "</thead>\n",
       "<tbody>\n",
       "\t<tr><td>1</td><td>ACLBSL </td><td>39.42</td><td>983.10  </td><td>998.00  </td><td>970.00  </td><td>986.00  </td><td>979.31  </td><td>5,844.00  </td><td>1,000.00</td><td>⋯</td><td>97 </td><td>-14.0</td><td>28.00</td><td>-1.40</td><td>2.89</td><td> 0.68</td><td>723.12  </td><td>661.36  </td><td>1,043.00</td><td>500.10</td></tr>\n",
       "\t<tr><td>2</td><td>ADBL   </td><td>49.67</td><td>267.90  </td><td>267.90  </td><td>261.50  </td><td>261.50  </td><td>263.74  </td><td>19,809.00 </td><td>268.00  </td><td>⋯</td><td>152</td><td> -6.5</td><td>6.40 </td><td>-2.43</td><td>2.45</td><td>-0.86</td><td>242.33  </td><td>245.32  </td><td>292.90  </td><td>223.00</td></tr>\n",
       "\t<tr><td>3</td><td>ADBLD83</td><td>61.57</td><td>1,061.00</td><td>1,101.50</td><td>1,061.00</td><td>1,101.50</td><td>1,070.29</td><td>350.00    </td><td>1,080.00</td><td>⋯</td><td>8  </td><td> 21.5</td><td>40.50</td><td> 1.99</td><td>3.82</td><td> 2.83</td><td>1,027.30</td><td>1,001.25</td><td>1,144.00</td><td>941.00</td></tr>\n",
       "\t<tr><td>4</td><td>AHL    </td><td>43.71</td><td>505.00  </td><td>508.90  </td><td>492.00  </td><td>500.00  </td><td>499.00  </td><td>16,996.00 </td><td>497.00  </td><td>⋯</td><td>139</td><td>  3.0</td><td>16.90</td><td> 0.60</td><td>3.43</td><td> 0.20</td><td>438.14  </td><td>401.68  </td><td>547.00  </td><td>273.10</td></tr>\n",
       "\t<tr><td>5</td><td>AHPC   </td><td>44.72</td><td>161.00  </td><td>161.00  </td><td>156.00  </td><td>156.00  </td><td>157.69  </td><td>118,322.00</td><td>157.90  </td><td>⋯</td><td>375</td><td> -1.9</td><td>5.00 </td><td>-1.20</td><td>3.21</td><td>-1.09</td><td>194.98  </td><td>200.45  </td><td>316.00  </td><td>150.00</td></tr>\n",
       "\t<tr><td>6</td><td>AKJCL  </td><td>53.18</td><td>216.00  </td><td>220.10  </td><td>213.60  </td><td>213.60  </td><td>216.51  </td><td>42,372.00 </td><td>216.90  </td><td>⋯</td><td>188</td><td> -3.3</td><td>6.50 </td><td>-1.52</td><td>3.04</td><td>-1.36</td><td>214.70  </td><td>194.40  </td><td>250.00  </td><td>141.30</td></tr>\n",
       "</tbody>\n",
       "</table>\n"
      ],
      "text/latex": [
       "A tibble: 6 × 21\n",
       "\\begin{tabular}{lllllllllllllllllllll}\n",
       " S.No & Symbol & Conf. & Open & High & Low & Close & VWAP & Vol & Prev. Close & ⋯ & Trans. & Diff & Range & Diff \\% & Range \\% & VWAP \\% & 120 Days & 180 Days & 52 Weeks High & 52 Weeks Low\\\\\n",
       " <int> & <chr> & <dbl> & <chr> & <chr> & <chr> & <chr> & <chr> & <chr> & <chr> & ⋯ & <chr> & <dbl> & <chr> & <dbl> & <dbl> & <dbl> & <chr> & <chr> & <chr> & <chr>\\\\\n",
       "\\hline\n",
       "\t 1 & ACLBSL  & 39.42 & 983.10   & 998.00   & 970.00   & 986.00   & 979.31   & 5,844.00   & 1,000.00 & ⋯ & 97  & -14.0 & 28.00 & -1.40 & 2.89 &  0.68 & 723.12   & 661.36   & 1,043.00 & 500.10\\\\\n",
       "\t 2 & ADBL    & 49.67 & 267.90   & 267.90   & 261.50   & 261.50   & 263.74   & 19,809.00  & 268.00   & ⋯ & 152 &  -6.5 & 6.40  & -2.43 & 2.45 & -0.86 & 242.33   & 245.32   & 292.90   & 223.00\\\\\n",
       "\t 3 & ADBLD83 & 61.57 & 1,061.00 & 1,101.50 & 1,061.00 & 1,101.50 & 1,070.29 & 350.00     & 1,080.00 & ⋯ & 8   &  21.5 & 40.50 &  1.99 & 3.82 &  2.83 & 1,027.30 & 1,001.25 & 1,144.00 & 941.00\\\\\n",
       "\t 4 & AHL     & 43.71 & 505.00   & 508.90   & 492.00   & 500.00   & 499.00   & 16,996.00  & 497.00   & ⋯ & 139 &   3.0 & 16.90 &  0.60 & 3.43 &  0.20 & 438.14   & 401.68   & 547.00   & 273.10\\\\\n",
       "\t 5 & AHPC    & 44.72 & 161.00   & 161.00   & 156.00   & 156.00   & 157.69   & 118,322.00 & 157.90   & ⋯ & 375 &  -1.9 & 5.00  & -1.20 & 3.21 & -1.09 & 194.98   & 200.45   & 316.00   & 150.00\\\\\n",
       "\t 6 & AKJCL   & 53.18 & 216.00   & 220.10   & 213.60   & 213.60   & 216.51   & 42,372.00  & 216.90   & ⋯ & 188 &  -3.3 & 6.50  & -1.52 & 3.04 & -1.36 & 214.70   & 194.40   & 250.00   & 141.30\\\\\n",
       "\\end{tabular}\n"
      ],
      "text/markdown": [
       "\n",
       "A tibble: 6 × 21\n",
       "\n",
       "| S.No &lt;int&gt; | Symbol &lt;chr&gt; | Conf. &lt;dbl&gt; | Open &lt;chr&gt; | High &lt;chr&gt; | Low &lt;chr&gt; | Close &lt;chr&gt; | VWAP &lt;chr&gt; | Vol &lt;chr&gt; | Prev. Close &lt;chr&gt; | ⋯ ⋯ | Trans. &lt;chr&gt; | Diff &lt;dbl&gt; | Range &lt;chr&gt; | Diff % &lt;dbl&gt; | Range % &lt;dbl&gt; | VWAP % &lt;dbl&gt; | 120 Days &lt;chr&gt; | 180 Days &lt;chr&gt; | 52 Weeks High &lt;chr&gt; | 52 Weeks Low &lt;chr&gt; |\n",
       "|---|---|---|---|---|---|---|---|---|---|---|---|---|---|---|---|---|---|---|---|---|\n",
       "| 1 | ACLBSL  | 39.42 | 983.10   | 998.00   | 970.00   | 986.00   | 979.31   | 5,844.00   | 1,000.00 | ⋯ | 97  | -14.0 | 28.00 | -1.40 | 2.89 |  0.68 | 723.12   | 661.36   | 1,043.00 | 500.10 |\n",
       "| 2 | ADBL    | 49.67 | 267.90   | 267.90   | 261.50   | 261.50   | 263.74   | 19,809.00  | 268.00   | ⋯ | 152 |  -6.5 | 6.40  | -2.43 | 2.45 | -0.86 | 242.33   | 245.32   | 292.90   | 223.00 |\n",
       "| 3 | ADBLD83 | 61.57 | 1,061.00 | 1,101.50 | 1,061.00 | 1,101.50 | 1,070.29 | 350.00     | 1,080.00 | ⋯ | 8   |  21.5 | 40.50 |  1.99 | 3.82 |  2.83 | 1,027.30 | 1,001.25 | 1,144.00 | 941.00 |\n",
       "| 4 | AHL     | 43.71 | 505.00   | 508.90   | 492.00   | 500.00   | 499.00   | 16,996.00  | 497.00   | ⋯ | 139 |   3.0 | 16.90 |  0.60 | 3.43 |  0.20 | 438.14   | 401.68   | 547.00   | 273.10 |\n",
       "| 5 | AHPC    | 44.72 | 161.00   | 161.00   | 156.00   | 156.00   | 157.69   | 118,322.00 | 157.90   | ⋯ | 375 |  -1.9 | 5.00  | -1.20 | 3.21 | -1.09 | 194.98   | 200.45   | 316.00   | 150.00 |\n",
       "| 6 | AKJCL   | 53.18 | 216.00   | 220.10   | 213.60   | 213.60   | 216.51   | 42,372.00  | 216.90   | ⋯ | 188 |  -3.3 | 6.50  | -1.52 | 3.04 | -1.36 | 214.70   | 194.40   | 250.00   | 141.30 |\n",
       "\n"
      ],
      "text/plain": [
       "  S.No Symbol  Conf. Open     High     Low      Close    VWAP     Vol       \n",
       "1 1    ACLBSL  39.42 983.10   998.00   970.00   986.00   979.31   5,844.00  \n",
       "2 2    ADBL    49.67 267.90   267.90   261.50   261.50   263.74   19,809.00 \n",
       "3 3    ADBLD83 61.57 1,061.00 1,101.50 1,061.00 1,101.50 1,070.29 350.00    \n",
       "4 4    AHL     43.71 505.00   508.90   492.00   500.00   499.00   16,996.00 \n",
       "5 5    AHPC    44.72 161.00   161.00   156.00   156.00   157.69   118,322.00\n",
       "6 6    AKJCL   53.18 216.00   220.10   213.60   213.60   216.51   42,372.00 \n",
       "  Prev. Close ⋯ Trans. Diff  Range Diff % Range % VWAP % 120 Days 180 Days\n",
       "1 1,000.00    ⋯ 97     -14.0 28.00 -1.40  2.89     0.68  723.12   661.36  \n",
       "2 268.00      ⋯ 152     -6.5 6.40  -2.43  2.45    -0.86  242.33   245.32  \n",
       "3 1,080.00    ⋯ 8       21.5 40.50  1.99  3.82     2.83  1,027.30 1,001.25\n",
       "4 497.00      ⋯ 139      3.0 16.90  0.60  3.43     0.20  438.14   401.68  \n",
       "5 157.90      ⋯ 375     -1.9 5.00  -1.20  3.21    -1.09  194.98   200.45  \n",
       "6 216.90      ⋯ 188     -3.3 6.50  -1.52  3.04    -1.36  214.70   194.40  \n",
       "  52 Weeks High 52 Weeks Low\n",
       "1 1,043.00      500.10      \n",
       "2 292.90        223.00      \n",
       "3 1,144.00      941.00      \n",
       "4 547.00        273.10      \n",
       "5 316.00        150.00      \n",
       "6 250.00        141.30      "
      ]
     },
     "metadata": {},
     "output_type": "display_data"
    }
   ],
   "source": [
    "#storing the table in a dataframe\n",
    "df1 <- tables[[1]]\n",
    "head(df1)"
   ]
  },
  {
   "cell_type": "code",
   "execution_count": 4,
   "id": "a515e221-e3fe-4e2e-b4ce-7c3beba813f3",
   "metadata": {},
   "outputs": [
    {
     "data": {
      "text/html": [
       "<table class=\"dataframe\">\n",
       "<caption>A tibble: 3 × 21</caption>\n",
       "<thead>\n",
       "\t<tr><th scope=col>S.No</th><th scope=col>Symbol</th><th scope=col>Conf.</th><th scope=col>Open</th><th scope=col>High</th><th scope=col>Low</th><th scope=col>Close</th><th scope=col>VWAP</th><th scope=col>Vol</th><th scope=col>Prev. Close</th><th scope=col>⋯</th><th scope=col>Trans.</th><th scope=col>Diff</th><th scope=col>Range</th><th scope=col>Diff %</th><th scope=col>Range %</th><th scope=col>VWAP %</th><th scope=col>120 Days</th><th scope=col>180 Days</th><th scope=col>52 Weeks High</th><th scope=col>52 Weeks Low</th></tr>\n",
       "\t<tr><th scope=col>&lt;int&gt;</th><th scope=col>&lt;chr&gt;</th><th scope=col>&lt;dbl&gt;</th><th scope=col>&lt;chr&gt;</th><th scope=col>&lt;chr&gt;</th><th scope=col>&lt;chr&gt;</th><th scope=col>&lt;chr&gt;</th><th scope=col>&lt;chr&gt;</th><th scope=col>&lt;chr&gt;</th><th scope=col>&lt;chr&gt;</th><th scope=col>⋯</th><th scope=col>&lt;chr&gt;</th><th scope=col>&lt;dbl&gt;</th><th scope=col>&lt;chr&gt;</th><th scope=col>&lt;dbl&gt;</th><th scope=col>&lt;dbl&gt;</th><th scope=col>&lt;dbl&gt;</th><th scope=col>&lt;chr&gt;</th><th scope=col>&lt;chr&gt;</th><th scope=col>&lt;chr&gt;</th><th scope=col>&lt;chr&gt;</th></tr>\n",
       "</thead>\n",
       "<tbody>\n",
       "\t<tr><td>102</td><td>KBSH </td><td>51.72</td><td>1,695.40</td><td>1,695.40</td><td>1,557.00</td><td>1,557.00</td><td>1,562.78</td><td>12,879.00</td><td>1,730.00</td><td>⋯</td><td>203</td><td>-173</td><td>138.40</td><td>-10</td><td> 8.89</td><td>-0.37</td><td>1,015.12</td><td>940.07</td><td>1,730.00</td><td>479.00</td></tr>\n",
       "\t<tr><td>140</td><td>MKLB </td><td>51.89</td><td>1,836.00</td><td>1,836.00</td><td>1,620.00</td><td>1,620.00</td><td>1,627.02</td><td>1,405.00 </td><td>1,800.00</td><td>⋯</td><td>36 </td><td>-180</td><td>216.00</td><td>-10</td><td>13.33</td><td>-0.43</td><td>868.11  </td><td>779.80</td><td>1,836.00</td><td>526.20</td></tr>\n",
       "\t<tr><td>242</td><td>SAMAJ</td><td>65.63</td><td>2,151.00</td><td>2,409.00</td><td>2,151.00</td><td>2,409.00</td><td>2,301.38</td><td>10,537.00</td><td>2,190.00</td><td>⋯</td><td>160</td><td> 219</td><td>258.00</td><td> 10</td><td>11.99</td><td> 4.47</td><td>1,434.82</td><td>0.00  </td><td>2,488.20</td><td>64.80 </td></tr>\n",
       "</tbody>\n",
       "</table>\n"
      ],
      "text/latex": [
       "A tibble: 3 × 21\n",
       "\\begin{tabular}{lllllllllllllllllllll}\n",
       " S.No & Symbol & Conf. & Open & High & Low & Close & VWAP & Vol & Prev. Close & ⋯ & Trans. & Diff & Range & Diff \\% & Range \\% & VWAP \\% & 120 Days & 180 Days & 52 Weeks High & 52 Weeks Low\\\\\n",
       " <int> & <chr> & <dbl> & <chr> & <chr> & <chr> & <chr> & <chr> & <chr> & <chr> & ⋯ & <chr> & <dbl> & <chr> & <dbl> & <dbl> & <dbl> & <chr> & <chr> & <chr> & <chr>\\\\\n",
       "\\hline\n",
       "\t 102 & KBSH  & 51.72 & 1,695.40 & 1,695.40 & 1,557.00 & 1,557.00 & 1,562.78 & 12,879.00 & 1,730.00 & ⋯ & 203 & -173 & 138.40 & -10 &  8.89 & -0.37 & 1,015.12 & 940.07 & 1,730.00 & 479.00\\\\\n",
       "\t 140 & MKLB  & 51.89 & 1,836.00 & 1,836.00 & 1,620.00 & 1,620.00 & 1,627.02 & 1,405.00  & 1,800.00 & ⋯ & 36  & -180 & 216.00 & -10 & 13.33 & -0.43 & 868.11   & 779.80 & 1,836.00 & 526.20\\\\\n",
       "\t 242 & SAMAJ & 65.63 & 2,151.00 & 2,409.00 & 2,151.00 & 2,409.00 & 2,301.38 & 10,537.00 & 2,190.00 & ⋯ & 160 &  219 & 258.00 &  10 & 11.99 &  4.47 & 1,434.82 & 0.00   & 2,488.20 & 64.80 \\\\\n",
       "\\end{tabular}\n"
      ],
      "text/markdown": [
       "\n",
       "A tibble: 3 × 21\n",
       "\n",
       "| S.No &lt;int&gt; | Symbol &lt;chr&gt; | Conf. &lt;dbl&gt; | Open &lt;chr&gt; | High &lt;chr&gt; | Low &lt;chr&gt; | Close &lt;chr&gt; | VWAP &lt;chr&gt; | Vol &lt;chr&gt; | Prev. Close &lt;chr&gt; | ⋯ ⋯ | Trans. &lt;chr&gt; | Diff &lt;dbl&gt; | Range &lt;chr&gt; | Diff % &lt;dbl&gt; | Range % &lt;dbl&gt; | VWAP % &lt;dbl&gt; | 120 Days &lt;chr&gt; | 180 Days &lt;chr&gt; | 52 Weeks High &lt;chr&gt; | 52 Weeks Low &lt;chr&gt; |\n",
       "|---|---|---|---|---|---|---|---|---|---|---|---|---|---|---|---|---|---|---|---|---|\n",
       "| 102 | KBSH  | 51.72 | 1,695.40 | 1,695.40 | 1,557.00 | 1,557.00 | 1,562.78 | 12,879.00 | 1,730.00 | ⋯ | 203 | -173 | 138.40 | -10 |  8.89 | -0.37 | 1,015.12 | 940.07 | 1,730.00 | 479.00 |\n",
       "| 140 | MKLB  | 51.89 | 1,836.00 | 1,836.00 | 1,620.00 | 1,620.00 | 1,627.02 | 1,405.00  | 1,800.00 | ⋯ | 36  | -180 | 216.00 | -10 | 13.33 | -0.43 | 868.11   | 779.80 | 1,836.00 | 526.20 |\n",
       "| 242 | SAMAJ | 65.63 | 2,151.00 | 2,409.00 | 2,151.00 | 2,409.00 | 2,301.38 | 10,537.00 | 2,190.00 | ⋯ | 160 |  219 | 258.00 |  10 | 11.99 |  4.47 | 1,434.82 | 0.00   | 2,488.20 | 64.80  |\n",
       "\n"
      ],
      "text/plain": [
       "  S.No Symbol Conf. Open     High     Low      Close    VWAP     Vol      \n",
       "1 102  KBSH   51.72 1,695.40 1,695.40 1,557.00 1,557.00 1,562.78 12,879.00\n",
       "2 140  MKLB   51.89 1,836.00 1,836.00 1,620.00 1,620.00 1,627.02 1,405.00 \n",
       "3 242  SAMAJ  65.63 2,151.00 2,409.00 2,151.00 2,409.00 2,301.38 10,537.00\n",
       "  Prev. Close ⋯ Trans. Diff Range  Diff % Range % VWAP % 120 Days 180 Days\n",
       "1 1,730.00    ⋯ 203    -173 138.40 -10     8.89   -0.37  1,015.12 940.07  \n",
       "2 1,800.00    ⋯ 36     -180 216.00 -10    13.33   -0.43  868.11   779.80  \n",
       "3 2,190.00    ⋯ 160     219 258.00  10    11.99    4.47  1,434.82 0.00    \n",
       "  52 Weeks High 52 Weeks Low\n",
       "1 1,730.00      479.00      \n",
       "2 1,836.00      526.20      \n",
       "3 2,488.20      64.80       "
      ]
     },
     "metadata": {},
     "output_type": "display_data"
    }
   ],
   "source": [
    "#filtering upper and lower circuit stock\n",
    "#See https://github.com/tempgita/training/blob/master/archieved/R%20Training%20(old)/Day%203-Session%203/dplyr%20-%20A%20Grammar%20of%20Data%20Manipulation.pdf for data manipulation using dplyr package\n",
    "filtered_df1 <- df1 %>% filter(`Diff %` > 9 | `Diff %`< -9) %>% arrange(`Diff %`)\n",
    "filtered_df1"
   ]
  },
  {
   "cell_type": "code",
   "execution_count": 5,
   "id": "6ea0db11-115e-4826-85a0-f12f80f42dbe",
   "metadata": {},
   "outputs": [],
   "source": [
    "write.csv(filtered_df1, file = \"example1.csv\", row.names = FALSE)"
   ]
  },
  {
   "cell_type": "markdown",
   "id": "262b8e55-59b7-4783-a843-870c3acd254e",
   "metadata": {},
   "source": [
    "---\n",
    "### Example 2. Forex from NRB\n",
    "---"
   ]
  },
  {
   "cell_type": "code",
   "execution_count": 6,
   "id": "8e1693d7-f091-4aff-aa7e-f3d05d13344f",
   "metadata": {},
   "outputs": [
    {
     "data": {
      "text/html": [
       "2"
      ],
      "text/latex": [
       "2"
      ],
      "text/markdown": [
       "2"
      ],
      "text/plain": [
       "[1] 2"
      ]
     },
     "metadata": {},
     "output_type": "display_data"
    }
   ],
   "source": [
    "#loading webpage content\n",
    "webpage <- read_html(\"https://www.nrb.org.np\")\n",
    "\n",
    "#extracting table from the webpage\n",
    "tables <- html_table(webpage)\n",
    "\n",
    "#checking the number of tables available in the webpage\n",
    "length(tables)"
   ]
  },
  {
   "cell_type": "code",
   "execution_count": 7,
   "id": "9272d979-48f3-49cc-81ea-e183c606896e",
   "metadata": {},
   "outputs": [
    {
     "data": {
      "text/html": [
       "<table class=\"dataframe\">\n",
       "<caption>A tibble: 6 × 3</caption>\n",
       "<thead>\n",
       "\t<tr><th scope=col>Currency</th><th scope=col>Buy</th><th scope=col>Sell</th></tr>\n",
       "\t<tr><th scope=col>&lt;chr&gt;</th><th scope=col>&lt;dbl&gt;</th><th scope=col>&lt;dbl&gt;</th></tr>\n",
       "</thead>\n",
       "<tbody>\n",
       "\t<tr><td>USD</td><td>133.40</td><td>134.00</td></tr>\n",
       "\t<tr><td>EUR</td><td>142.95</td><td>143.59</td></tr>\n",
       "\t<tr><td>GBP</td><td>169.03</td><td>169.79</td></tr>\n",
       "\t<tr><td>AUD</td><td> 88.08</td><td> 88.47</td></tr>\n",
       "\t<tr><td>SGD</td><td> 98.61</td><td> 99.06</td></tr>\n",
       "\t<tr><td>JPY</td><td>  8.46</td><td>  8.50</td></tr>\n",
       "</tbody>\n",
       "</table>\n"
      ],
      "text/latex": [
       "A tibble: 6 × 3\n",
       "\\begin{tabular}{lll}\n",
       " Currency & Buy & Sell\\\\\n",
       " <chr> & <dbl> & <dbl>\\\\\n",
       "\\hline\n",
       "\t USD & 133.40 & 134.00\\\\\n",
       "\t EUR & 142.95 & 143.59\\\\\n",
       "\t GBP & 169.03 & 169.79\\\\\n",
       "\t AUD &  88.08 &  88.47\\\\\n",
       "\t SGD &  98.61 &  99.06\\\\\n",
       "\t JPY &   8.46 &   8.50\\\\\n",
       "\\end{tabular}\n"
      ],
      "text/markdown": [
       "\n",
       "A tibble: 6 × 3\n",
       "\n",
       "| Currency &lt;chr&gt; | Buy &lt;dbl&gt; | Sell &lt;dbl&gt; |\n",
       "|---|---|---|\n",
       "| USD | 133.40 | 134.00 |\n",
       "| EUR | 142.95 | 143.59 |\n",
       "| GBP | 169.03 | 169.79 |\n",
       "| AUD |  88.08 |  88.47 |\n",
       "| SGD |  98.61 |  99.06 |\n",
       "| JPY |   8.46 |   8.50 |\n",
       "\n"
      ],
      "text/plain": [
       "  Currency Buy    Sell  \n",
       "1 USD      133.40 134.00\n",
       "2 EUR      142.95 143.59\n",
       "3 GBP      169.03 169.79\n",
       "4 AUD       88.08  88.47\n",
       "5 SGD       98.61  99.06\n",
       "6 JPY        8.46   8.50"
      ]
     },
     "metadata": {},
     "output_type": "display_data"
    },
    {
     "data": {
      "text/html": [
       "<table class=\"dataframe\">\n",
       "<caption>A tibble: 8 × 3</caption>\n",
       "<thead>\n",
       "\t<tr><th scope=col>Last Updated</th><th scope=col>13/06/2024</th><th scope=col>12/06/2024</th></tr>\n",
       "\t<tr><th scope=col>&lt;chr&gt;</th><th scope=col>&lt;chr&gt;</th><th scope=col>&lt;chr&gt;</th></tr>\n",
       "</thead>\n",
       "<tbody>\n",
       "\t<tr><td>Total Deposits   ( in NPR Billion)                   </td><td>6,242</td><td>6,235</td></tr>\n",
       "\t<tr><td>Commercial Banks Total Deposits   ( in NPR Billion)  </td><td>5,525</td><td>5,519</td></tr>\n",
       "\t<tr><td>Other BFIs Total Deposits   ( in NPR Billion)        </td><td>717  </td><td>716  </td></tr>\n",
       "\t<tr><td>Total Lending   ( in NPR Billion)                    </td><td>5,133</td><td>5,131</td></tr>\n",
       "\t<tr><td>Commercial Banks Total Lending   ( in NPR Billion)   </td><td>4,542</td><td>4,541</td></tr>\n",
       "\t<tr><td>Other BFIs Total Lending   ( in NPR Billion)         </td><td>591  </td><td>591  </td></tr>\n",
       "\t<tr><td>CD Ratio   ( in %)                                   </td><td>80.08</td><td>80.14</td></tr>\n",
       "\t<tr><td>Interbank Interest Rate LCY - Weighted Avg.   ( in %)</td><td>2.95 </td><td>2.97 </td></tr>\n",
       "</tbody>\n",
       "</table>\n"
      ],
      "text/latex": [
       "A tibble: 8 × 3\n",
       "\\begin{tabular}{lll}\n",
       " Last Updated & 13/06/2024 & 12/06/2024\\\\\n",
       " <chr> & <chr> & <chr>\\\\\n",
       "\\hline\n",
       "\t Total Deposits   ( in NPR Billion)                    & 6,242 & 6,235\\\\\n",
       "\t Commercial Banks Total Deposits   ( in NPR Billion)   & 5,525 & 5,519\\\\\n",
       "\t Other BFIs Total Deposits   ( in NPR Billion)         & 717   & 716  \\\\\n",
       "\t Total Lending   ( in NPR Billion)                     & 5,133 & 5,131\\\\\n",
       "\t Commercial Banks Total Lending   ( in NPR Billion)    & 4,542 & 4,541\\\\\n",
       "\t Other BFIs Total Lending   ( in NPR Billion)          & 591   & 591  \\\\\n",
       "\t CD Ratio   ( in \\%)                                    & 80.08 & 80.14\\\\\n",
       "\t Interbank Interest Rate LCY - Weighted Avg.   ( in \\%) & 2.95  & 2.97 \\\\\n",
       "\\end{tabular}\n"
      ],
      "text/markdown": [
       "\n",
       "A tibble: 8 × 3\n",
       "\n",
       "| Last Updated &lt;chr&gt; | 13/06/2024 &lt;chr&gt; | 12/06/2024 &lt;chr&gt; |\n",
       "|---|---|---|\n",
       "| Total Deposits   ( in NPR Billion)                    | 6,242 | 6,235 |\n",
       "| Commercial Banks Total Deposits   ( in NPR Billion)   | 5,525 | 5,519 |\n",
       "| Other BFIs Total Deposits   ( in NPR Billion)         | 717   | 716   |\n",
       "| Total Lending   ( in NPR Billion)                     | 5,133 | 5,131 |\n",
       "| Commercial Banks Total Lending   ( in NPR Billion)    | 4,542 | 4,541 |\n",
       "| Other BFIs Total Lending   ( in NPR Billion)          | 591   | 591   |\n",
       "| CD Ratio   ( in %)                                    | 80.08 | 80.14 |\n",
       "| Interbank Interest Rate LCY - Weighted Avg.   ( in %) | 2.95  | 2.97  |\n",
       "\n"
      ],
      "text/plain": [
       "  Last Updated                                          13/06/2024 12/06/2024\n",
       "1 Total Deposits   ( in NPR Billion)                    6,242      6,235     \n",
       "2 Commercial Banks Total Deposits   ( in NPR Billion)   5,525      5,519     \n",
       "3 Other BFIs Total Deposits   ( in NPR Billion)         717        716       \n",
       "4 Total Lending   ( in NPR Billion)                     5,133      5,131     \n",
       "5 Commercial Banks Total Lending   ( in NPR Billion)    4,542      4,541     \n",
       "6 Other BFIs Total Lending   ( in NPR Billion)          591        591       \n",
       "7 CD Ratio   ( in %)                                    80.08      80.14     \n",
       "8 Interbank Interest Rate LCY - Weighted Avg.   ( in %) 2.95       2.97      "
      ]
     },
     "metadata": {},
     "output_type": "display_data"
    }
   ],
   "source": [
    "df1 <- tables[[1]]\n",
    "df2 <- tables[[2]]\n",
    "\n",
    "df1\n",
    "df2"
   ]
  },
  {
   "cell_type": "code",
   "execution_count": 8,
   "id": "117fd702-9b71-4bcd-9d92-b7716a66f8d4",
   "metadata": {},
   "outputs": [
    {
     "data": {
      "text/html": [
       "<table class=\"dataframe\">\n",
       "<caption>A tibble: 2 × 3</caption>\n",
       "<thead>\n",
       "\t<tr><th scope=col>Currency</th><th scope=col>Buy</th><th scope=col>Sell</th></tr>\n",
       "\t<tr><th scope=col>&lt;chr&gt;</th><th scope=col>&lt;dbl&gt;</th><th scope=col>&lt;dbl&gt;</th></tr>\n",
       "</thead>\n",
       "<tbody>\n",
       "\t<tr><td>USD</td><td>133.40</td><td>134.0</td></tr>\n",
       "\t<tr><td>JPY</td><td>  8.46</td><td>  8.5</td></tr>\n",
       "</tbody>\n",
       "</table>\n"
      ],
      "text/latex": [
       "A tibble: 2 × 3\n",
       "\\begin{tabular}{lll}\n",
       " Currency & Buy & Sell\\\\\n",
       " <chr> & <dbl> & <dbl>\\\\\n",
       "\\hline\n",
       "\t USD & 133.40 & 134.0\\\\\n",
       "\t JPY &   8.46 &   8.5\\\\\n",
       "\\end{tabular}\n"
      ],
      "text/markdown": [
       "\n",
       "A tibble: 2 × 3\n",
       "\n",
       "| Currency &lt;chr&gt; | Buy &lt;dbl&gt; | Sell &lt;dbl&gt; |\n",
       "|---|---|---|\n",
       "| USD | 133.40 | 134.0 |\n",
       "| JPY |   8.46 |   8.5 |\n",
       "\n"
      ],
      "text/plain": [
       "  Currency Buy    Sell \n",
       "1 USD      133.40 134.0\n",
       "2 JPY        8.46   8.5"
      ]
     },
     "metadata": {},
     "output_type": "display_data"
    }
   ],
   "source": [
    "#keeping USD and JPY only\n",
    "filtered_df1 <- df1 %>% filter(Currency=='USD' | Currency =='JPY')\n",
    "filtered_df1\n",
    "\n",
    "write.csv(filtered_df1, file = \"example2.csv\", row.names = FALSE)"
   ]
  },
  {
   "cell_type": "markdown",
   "id": "5719bda3-3294-4acd-ae3e-b2c8cacb2365",
   "metadata": {},
   "source": [
    "---\n",
    "### Practice 1. Web-scrape the Historical ranking table from https://en.wikipedia.org/wiki/ICC_Men%27s_T20I_Team_Rankings and save it as practice1.csv\n",
    "---\n",
    "![](data:image/png;base64,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)"
   ]
  }
 ],
 "metadata": {
  "kernelspec": {
   "display_name": "R",
   "language": "R",
   "name": "ir"
  },
  "language_info": {
   "codemirror_mode": "r",
   "file_extension": ".r",
   "mimetype": "text/x-r-source",
   "name": "R",
   "pygments_lexer": "r",
   "version": "4.4.1"
  }
 },
 "nbformat": 4,
 "nbformat_minor": 5
}
