{
 "cells": [
  {
   "cell_type": "markdown",
   "id": "414e874f-adba-41b7-8df5-ee2eda7cf2e0",
   "metadata": {},
   "source": [
    "# **Using `XPATH` for web scraping**"
   ]
  },
  {
   "cell_type": "markdown",
   "id": "a0cd86b4-6d51-4de3-b142-e6bac3e1cc9c",
   "metadata": {},
   "source": [
    "---\n",
    "### Example 3. Product price scraping from https://nepalfoods.gov.np/\n",
    "---"
   ]
  },
  {
   "cell_type": "code",
   "execution_count": 1,
   "id": "7d4fd6b7-7825-43df-9f40-1f1085c1cee4",
   "metadata": {},
   "outputs": [],
   "source": [
    "import pandas as pd\n",
    "import requests\n",
    "from bs4 import BeautifulSoup\n",
    "from lxml import html\n",
    "\n",
    "#loading webpage content\n",
    "webpage = requests.get(\"https://nepalfoods.gov.np/\").content"
   ]
  },
  {
   "cell_type": "code",
   "execution_count": 2,
   "id": "ad146d76-df5d-4bc8-a691-d147037e6df5",
   "metadata": {},
   "outputs": [
    {
     "name": "stdout",
     "output_type": "stream",
     "text": [
      "27\n",
      "['अन्य', 'अन्य', 'चामल', 'चामल', 'चामल', 'दाल', 'दाल', 'चामल', 'चामल', 'चामल', 'चामल', 'अन्य', 'अन्य', 'तेल एवं घ्यू', 'तेल एवं घ्यू', 'तेल एवं घ्यू', 'तेल एवं घ्यू', 'अन्य', 'चामल', 'चामल', 'दाल', 'चामल', 'गेडागुडी', 'चामल', 'चामल', 'अन्य', 'अन्य']\n",
      "27\n",
      "['उवा १ केजी', 'चियापत्ती ५०० ग्राम', 'Long Grain चामल  १० केजी', 'हुम्लाको कागुनोको चामल १ केजी', 'हुम्लाको चिनोको चामल १ केजी', 'कर्णालीको सिमि १ केजी', 'मुसुरो दाल(सानो) १ केजी', 'अरुवा सोना मन्सुली  चामल २५   केजी', 'अरुवा मोटा चामल ३० केजी', 'हुम्लाको कागुनोको चामल १ केजी', 'हुम्लाको चिनोको चामल १ केजी', 'टाइमपास टाइचिन चिउरा १ केजी', 'गहुँ आटा 5 केजी', 'भटमासको तेल १ लिटर', 'सनफ्लावर तेल १ लिटर', 'तोरीको तेल (शान्ती) १ लिटर', 'डी.डी.सी डेरी घ्यू १ लि', 'डी.डी.सी डेरी घ्यू १/२ लि', 'मार्सी चामल १ केजी', 'ब्राउन चामल ५ किलो ग्राम', 'कर्णालीको सिमि १ केजी', 'स्टिम जिरा मसिनो चामल 25 केजी', 'क्वाँटी १ केजी', 'बासमती चामल २०  किलो ग्राम', 'काला नुनीया (काला नमक चामल ) 10 kg', 'STC ग्यास सिलिण्डर(Exchange only STC Cylinder)', 'STC ग्यास  सिलिण्\\u200dडर सहित']\n",
      "27\n",
      "['NPR\\xa0200.00', 'NPR\\xa0270.00', 'NPR\\xa01780.00', 'NPR\\xa0260.00', 'NPR\\xa0260.00', 'NPR\\xa0240.00', 'NPR\\xa0165.00', 'NPR\\xa01700.00', 'NPR\\xa01560.00', 'NPR\\xa0260.00', 'NPR\\xa0260.00', 'NPR\\xa0100.00', 'NPR\\xa0360.00', 'NPR\\xa0215.00', 'NPR\\xa0220.00', 'NPR\\xa0385.00', 'NPR\\xa01160.00', 'NPR\\xa0580.00', 'NPR\\xa0230.00', 'NPR\\xa0325.00', 'NPR\\xa0240.00', 'NPR\\xa02125.00', 'NPR\\xa0145.00', 'NPR\\xa02700.00', 'NPR\\xa01500.00', 'NPR\\xa01910.00', 'NPR\\xa04425.00']\n"
     ]
    }
   ],
   "source": [
    "tree = html.fromstring(webpage)\n",
    "\n",
    "list_xpath = tree.xpath(\"//div[@class='product-category']\")\n",
    "category = [x.text_content().strip() for x in list_xpath]\n",
    "print(len(category))\n",
    "print(category)\n",
    "\n",
    "product = [x.text_content().strip() for x in tree.xpath(\"//h2\")]\n",
    "print(len(product))\n",
    "print(product)\n",
    "\n",
    "price = [x.text_content().strip() for x in tree.xpath(\"//div[@class='product-price']\")]\n",
    "print(len(price))\n",
    "print(price)"
   ]
  },
  {
   "cell_type": "code",
   "execution_count": 3,
   "id": "278d20ae-823b-4271-8bf9-656cfc1d4dbf",
   "metadata": {},
   "outputs": [
    {
     "data": {
      "text/html": [
       "<div>\n",
       "<style scoped>\n",
       "    .dataframe tbody tr th:only-of-type {\n",
       "        vertical-align: middle;\n",
       "    }\n",
       "\n",
       "    .dataframe tbody tr th {\n",
       "        vertical-align: top;\n",
       "    }\n",
       "\n",
       "    .dataframe thead th {\n",
       "        text-align: right;\n",
       "    }\n",
       "</style>\n",
       "<table border=\"1\" class=\"dataframe\">\n",
       "  <thead>\n",
       "    <tr style=\"text-align: right;\">\n",
       "      <th></th>\n",
       "      <th>category</th>\n",
       "      <th>product</th>\n",
       "      <th>price</th>\n",
       "    </tr>\n",
       "  </thead>\n",
       "  <tbody>\n",
       "    <tr>\n",
       "      <th>0</th>\n",
       "      <td>अन्य</td>\n",
       "      <td>उवा १ केजी</td>\n",
       "      <td>NPR 200.00</td>\n",
       "    </tr>\n",
       "    <tr>\n",
       "      <th>17</th>\n",
       "      <td>अन्य</td>\n",
       "      <td>डी.डी.सी डेरी घ्यू १/२ लि</td>\n",
       "      <td>NPR 580.00</td>\n",
       "    </tr>\n",
       "    <tr>\n",
       "      <th>25</th>\n",
       "      <td>अन्य</td>\n",
       "      <td>STC ग्यास सिलिण्डर(Exchange only STC Cylinder)</td>\n",
       "      <td>NPR 1910.00</td>\n",
       "    </tr>\n",
       "    <tr>\n",
       "      <th>12</th>\n",
       "      <td>अन्य</td>\n",
       "      <td>गहुँ आटा 5 केजी</td>\n",
       "      <td>NPR 360.00</td>\n",
       "    </tr>\n",
       "    <tr>\n",
       "      <th>11</th>\n",
       "      <td>अन्य</td>\n",
       "      <td>टाइमपास टाइचिन चिउरा १ केजी</td>\n",
       "      <td>NPR 100.00</td>\n",
       "    </tr>\n",
       "  </tbody>\n",
       "</table>\n",
       "</div>"
      ],
      "text/plain": [
       "   category                                         product        price\n",
       "0      अन्य                                      उवा १ केजी   NPR 200.00\n",
       "17     अन्य                       डी.डी.सी डेरी घ्यू १/२ लि   NPR 580.00\n",
       "25     अन्य  STC ग्यास सिलिण्डर(Exchange only STC Cylinder)  NPR 1910.00\n",
       "12     अन्य                                 गहुँ आटा 5 केजी   NPR 360.00\n",
       "11     अन्य                     टाइमपास टाइचिन चिउरा १ केजी   NPR 100.00"
      ]
     },
     "metadata": {},
     "output_type": "display_data"
    }
   ],
   "source": [
    "df = pd.DataFrame({'category': category, 'product':product, 'price':price})\n",
    "df = df.sort_values(by='category')\n",
    "display(df.head())\n",
    "\n",
    "df.to_csv('example3-python.csv', index=False)"
   ]
  },
  {
   "cell_type": "markdown",
   "id": "e1c92600-4c96-490f-a563-4402e457bd1a",
   "metadata": {},
   "source": [
    "### using _`Beautifulsoup`_ (alternate way)"
   ]
  },
  {
   "cell_type": "code",
   "execution_count": 4,
   "id": "441eea2a-4f34-41e2-89d3-e459d99a433b",
   "metadata": {},
   "outputs": [
    {
     "name": "stdout",
     "output_type": "stream",
     "text": [
      "27\n",
      "['अन्य', 'अन्य', 'चामल', 'चामल', 'चामल', 'दाल', 'दाल', 'चामल', 'चामल', 'चामल', 'चामल', 'अन्य', 'अन्य', 'तेल एवं घ्यू', 'तेल एवं घ्यू', 'तेल एवं घ्यू', 'तेल एवं घ्यू', 'अन्य', 'चामल', 'चामल', 'दाल', 'चामल', 'गेडागुडी', 'चामल', 'चामल', 'अन्य', 'अन्य']\n",
      "27\n",
      "['उवा १ केजी', 'चियापत्ती ५०० ग्राम', 'Long Grain चामल  १० केजी', 'हुम्लाको कागुनोको चामल १ केजी', 'हुम्लाको चिनोको चामल १ केजी', 'कर्णालीको सिमि १ केजी', 'मुसुरो दाल(सानो) १ केजी', 'अरुवा सोना मन्सुली  चामल २५   केजी', 'अरुवा मोटा चामल ३० केजी', 'हुम्लाको कागुनोको चामल १ केजी', 'हुम्लाको चिनोको चामल १ केजी', 'टाइमपास टाइचिन चिउरा १ केजी', 'गहुँ आटा 5 केजी', 'भटमासको तेल १ लिटर', 'सनफ्लावर तेल १ लिटर', 'तोरीको तेल (शान्ती) १ लिटर', 'डी.डी.सी डेरी घ्यू १ लि', 'डी.डी.सी डेरी घ्यू १/२ लि', 'मार्सी चामल १ केजी', 'ब्राउन चामल ५ किलो ग्राम', 'कर्णालीको सिमि १ केजी', 'स्टिम जिरा मसिनो चामल 25 केजी', 'क्वाँटी १ केजी', 'बासमती चामल २०  किलो ग्राम', 'काला नुनीया (काला नमक चामल ) 10 kg', 'STC ग्यास सिलिण्डर(Exchange only STC Cylinder)', 'STC ग्यास  सिलिण्\\u200dडर सहित']\n",
      "27\n",
      "['NPR\\xa0200.00', 'NPR\\xa0270.00', 'NPR\\xa01780.00', 'NPR\\xa0260.00', 'NPR\\xa0260.00', 'NPR\\xa0240.00', 'NPR\\xa0165.00', 'NPR\\xa01700.00', 'NPR\\xa01560.00', 'NPR\\xa0260.00', 'NPR\\xa0260.00', 'NPR\\xa0100.00', 'NPR\\xa0360.00', 'NPR\\xa0215.00', 'NPR\\xa0220.00', 'NPR\\xa0385.00', 'NPR\\xa01160.00', 'NPR\\xa0580.00', 'NPR\\xa0230.00', 'NPR\\xa0325.00', 'NPR\\xa0240.00', 'NPR\\xa02125.00', 'NPR\\xa0145.00', 'NPR\\xa02700.00', 'NPR\\xa01500.00', 'NPR\\xa01910.00', 'NPR\\xa04425.00']\n"
     ]
    }
   ],
   "source": [
    "soup = BeautifulSoup(webpage, 'html.parser')\n",
    "sp = soup.find_all('div', attrs={'class':'product-category'})\n",
    "category = [x.text.strip() for x in sp]\n",
    "print(len(category))\n",
    "print(category)\n",
    "\n",
    "product = [x.text.strip() for x in soup.find_all('h2')]\n",
    "print(len(product))\n",
    "print(product)\n",
    "\n",
    "price = [x.text.strip() for x in soup.find_all('div', attrs={'class':'product-price'})]\n",
    "print(len(price))\n",
    "print(price)"
   ]
  },
  {
   "cell_type": "code",
   "execution_count": 5,
   "id": "aeb82a89-2ff2-4e34-a34e-73052faa51de",
   "metadata": {},
   "outputs": [
    {
     "data": {
      "text/html": [
       "<div>\n",
       "<style scoped>\n",
       "    .dataframe tbody tr th:only-of-type {\n",
       "        vertical-align: middle;\n",
       "    }\n",
       "\n",
       "    .dataframe tbody tr th {\n",
       "        vertical-align: top;\n",
       "    }\n",
       "\n",
       "    .dataframe thead th {\n",
       "        text-align: right;\n",
       "    }\n",
       "</style>\n",
       "<table border=\"1\" class=\"dataframe\">\n",
       "  <thead>\n",
       "    <tr style=\"text-align: right;\">\n",
       "      <th></th>\n",
       "      <th>category</th>\n",
       "      <th>product</th>\n",
       "      <th>price</th>\n",
       "    </tr>\n",
       "  </thead>\n",
       "  <tbody>\n",
       "    <tr>\n",
       "      <th>0</th>\n",
       "      <td>अन्य</td>\n",
       "      <td>उवा १ केजी</td>\n",
       "      <td>NPR 200.00</td>\n",
       "    </tr>\n",
       "    <tr>\n",
       "      <th>17</th>\n",
       "      <td>अन्य</td>\n",
       "      <td>डी.डी.सी डेरी घ्यू १/२ लि</td>\n",
       "      <td>NPR 580.00</td>\n",
       "    </tr>\n",
       "    <tr>\n",
       "      <th>25</th>\n",
       "      <td>अन्य</td>\n",
       "      <td>STC ग्यास सिलिण्डर(Exchange only STC Cylinder)</td>\n",
       "      <td>NPR 1910.00</td>\n",
       "    </tr>\n",
       "    <tr>\n",
       "      <th>12</th>\n",
       "      <td>अन्य</td>\n",
       "      <td>गहुँ आटा 5 केजी</td>\n",
       "      <td>NPR 360.00</td>\n",
       "    </tr>\n",
       "    <tr>\n",
       "      <th>11</th>\n",
       "      <td>अन्य</td>\n",
       "      <td>टाइमपास टाइचिन चिउरा १ केजी</td>\n",
       "      <td>NPR 100.00</td>\n",
       "    </tr>\n",
       "  </tbody>\n",
       "</table>\n",
       "</div>"
      ],
      "text/plain": [
       "   category                                         product        price\n",
       "0      अन्य                                      उवा १ केजी   NPR 200.00\n",
       "17     अन्य                       डी.डी.सी डेरी घ्यू १/२ लि   NPR 580.00\n",
       "25     अन्य  STC ग्यास सिलिण्डर(Exchange only STC Cylinder)  NPR 1910.00\n",
       "12     अन्य                                 गहुँ आटा 5 केजी   NPR 360.00\n",
       "11     अन्य                     टाइमपास टाइचिन चिउरा १ केजी   NPR 100.00"
      ]
     },
     "metadata": {},
     "output_type": "display_data"
    }
   ],
   "source": [
    "df = pd.DataFrame({'category': category, 'product':product, 'price':price})\n",
    "df = df.sort_values(by='category')\n",
    "display(df.head())\n",
    "\n",
    "df.to_csv('example3-python.csv', index=False)"
   ]
  },
  {
   "cell_type": "markdown",
   "id": "b6692e59-9227-4cdf-9d1c-fcc4477a6c03",
   "metadata": {},
   "source": [
    "---\n",
    "### Example 4. Extract information on Top Box Office movies from https://www.imdb.com/chart/boxoffice\n",
    "---"
   ]
  },
  {
   "cell_type": "code",
   "execution_count": 6,
   "id": "1ed5653e-1ce0-453c-8e8f-c9b5610e15e9",
   "metadata": {},
   "outputs": [],
   "source": [
    "#loading webpage content\n",
    "hdr = {\n",
    "    'User-Agent': 'Mozilla/5.0 (Windows NT 10.0; Win64; x64) AppleWebKit/537.36 (KHTML, like Gecko) Chrome/58.0.3029.110 Safari/537.3'\n",
    "}\n",
    "webpage = requests.get(\"https://www.imdb.com/chart/boxoffice\", headers = hdr).content"
   ]
  },
  {
   "cell_type": "code",
   "execution_count": 7,
   "id": "99fd0ce6-84ee-48f4-a9ff-9cf808e98f0a",
   "metadata": {},
   "outputs": [
    {
     "name": "stdout",
     "output_type": "stream",
     "text": [
      "10\n",
      "['1. Inside Out 2', '2. Bad Boys: Ride or Die', '3. Kingdom of the Planet of the Apes', '4. The Garfield Movie', '5. IF', '6. The Watchers', '7. Furiosa: A Mad Max Saga', '8. The Fall Guy', '9. The Strangers: Chapter 1', '10. The Lord of the Rings: The Fellowship of the Ring']\n",
      "10\n",
      "['$154M', '$34M', '$5.5M', '$4.8M', '$3.6M', '$3.5M', '$2.6M', '$1.6M', '$759K', '$633K']\n",
      "10\n",
      "['$154M', '$113M', '$158M', '$78M', '$101M', '$14M', '$63M', '$88M', '$34M', '$319M']\n",
      "10\n",
      "['1', '2', '6', '4', '5', '2', '4', '7', '5', '2']\n",
      "10\n",
      "['8.0\\xa0(16K)', '7.0\\xa0(19K)', '7.2\\xa0(53K)', '5.8\\xa0(8.4K)', '6.7\\xa0(14K)', '5.8\\xa0(6.9K)', '7.8\\xa0(85K)', '7.0\\xa0(101K)', '4.7\\xa0(11K)', '8.9\\xa0(2M)']\n"
     ]
    }
   ],
   "source": [
    "tree = html.fromstring(webpage)\n",
    "\n",
    "movie = [x.text_content().strip() for x in tree.xpath(\"//a[@class='ipc-title-link-wrapper']\")]\n",
    "print(len(movie))\n",
    "print(movie)\n",
    "\n",
    "weekend_gross = [x.text_content().strip() for x in tree.xpath(\"//span[contains(.,'Weekend Gross:')]/parent::*/span[2]\")]\n",
    "print(len(weekend_gross))\n",
    "print(weekend_gross)\n",
    "\n",
    "total_gross = [x.text_content().strip() for x in tree.xpath(\"//span[contains(.,'Total Gross:')]/parent::*/span[2]\")]\n",
    "print(len(total_gross))\n",
    "print(total_gross)\n",
    "\n",
    "weeks_released = [x.text_content().strip() for x in tree.xpath(\"//span[contains(.,'Weeks Released:')]/parent::*/span[2]\")]\n",
    "print(len(weeks_released))\n",
    "print(weeks_released)\n",
    "\n",
    "rating = [x.text_content().strip() for x in tree.xpath(\"//span[@data-testid='ratingGroup--imdb-rating']\")]\n",
    "print(len(rating))\n",
    "print(rating)"
   ]
  },
  {
   "cell_type": "code",
   "execution_count": 8,
   "id": "0d42cd82-01ae-498f-a4ff-558df089d1ea",
   "metadata": {},
   "outputs": [
    {
     "data": {
      "text/html": [
       "<div>\n",
       "<style scoped>\n",
       "    .dataframe tbody tr th:only-of-type {\n",
       "        vertical-align: middle;\n",
       "    }\n",
       "\n",
       "    .dataframe tbody tr th {\n",
       "        vertical-align: top;\n",
       "    }\n",
       "\n",
       "    .dataframe thead th {\n",
       "        text-align: right;\n",
       "    }\n",
       "</style>\n",
       "<table border=\"1\" class=\"dataframe\">\n",
       "  <thead>\n",
       "    <tr style=\"text-align: right;\">\n",
       "      <th></th>\n",
       "      <th>movie</th>\n",
       "      <th>weekend_gross</th>\n",
       "      <th>total_gross</th>\n",
       "      <th>weeks_released</th>\n",
       "      <th>rating</th>\n",
       "    </tr>\n",
       "  </thead>\n",
       "  <tbody>\n",
       "    <tr>\n",
       "      <th>0</th>\n",
       "      <td>1. Inside Out 2</td>\n",
       "      <td>$154M</td>\n",
       "      <td>$154M</td>\n",
       "      <td>1</td>\n",
       "      <td>8.0 (16K)</td>\n",
       "    </tr>\n",
       "    <tr>\n",
       "      <th>1</th>\n",
       "      <td>2. Bad Boys: Ride or Die</td>\n",
       "      <td>$34M</td>\n",
       "      <td>$113M</td>\n",
       "      <td>2</td>\n",
       "      <td>7.0 (19K)</td>\n",
       "    </tr>\n",
       "    <tr>\n",
       "      <th>2</th>\n",
       "      <td>3. Kingdom of the Planet of the Apes</td>\n",
       "      <td>$5.5M</td>\n",
       "      <td>$158M</td>\n",
       "      <td>6</td>\n",
       "      <td>7.2 (53K)</td>\n",
       "    </tr>\n",
       "    <tr>\n",
       "      <th>3</th>\n",
       "      <td>4. The Garfield Movie</td>\n",
       "      <td>$4.8M</td>\n",
       "      <td>$78M</td>\n",
       "      <td>4</td>\n",
       "      <td>5.8 (8.4K)</td>\n",
       "    </tr>\n",
       "    <tr>\n",
       "      <th>4</th>\n",
       "      <td>5. IF</td>\n",
       "      <td>$3.6M</td>\n",
       "      <td>$101M</td>\n",
       "      <td>5</td>\n",
       "      <td>6.7 (14K)</td>\n",
       "    </tr>\n",
       "  </tbody>\n",
       "</table>\n",
       "</div>"
      ],
      "text/plain": [
       "                                  movie weekend_gross total_gross  \\\n",
       "0                       1. Inside Out 2         $154M       $154M   \n",
       "1              2. Bad Boys: Ride or Die          $34M       $113M   \n",
       "2  3. Kingdom of the Planet of the Apes         $5.5M       $158M   \n",
       "3                 4. The Garfield Movie         $4.8M        $78M   \n",
       "4                                 5. IF         $3.6M       $101M   \n",
       "\n",
       "  weeks_released      rating  \n",
       "0              1   8.0 (16K)  \n",
       "1              2   7.0 (19K)  \n",
       "2              6   7.2 (53K)  \n",
       "3              4  5.8 (8.4K)  \n",
       "4              5   6.7 (14K)  "
      ]
     },
     "metadata": {},
     "output_type": "display_data"
    }
   ],
   "source": [
    "df = pd.DataFrame({'movie': movie, 'weekend_gross':weekend_gross, 'total_gross':total_gross, 'weeks_released':weeks_released, 'rating':rating})\n",
    "display(df.head())\n",
    "\n",
    "df.to_csv('example4-python.csv', index=False)"
   ]
  },
  {
   "cell_type": "markdown",
   "id": "07729f8f-4e69-4d05-b124-26aceb5676e8",
   "metadata": {},
   "source": [
    "---\n",
    "### Practice 2. From https://www.imdb.com/chart/moviemeter, prepare a table of most popular movies with movie name, year, length, and ratings.\n",
    "---"
   ]
  },
  {
   "cell_type": "code",
   "execution_count": 9,
   "id": "ce385abb-c7d4-4f40-86e3-00d710b2e07b",
   "metadata": {},
   "outputs": [],
   "source": [
    "#loading webpage content\n",
    "hdr = {\n",
    "    'User-Agent': 'Mozilla/5.0 (Windows NT 10.0; Win64; x64) AppleWebKit/537.36 (KHTML, like Gecko) Chrome/58.0.3029.110 Safari/537.3'\n",
    "}\n",
    "webpage = requests.get(\"https://www.imdb.com/chart/moviemeter\", headers = hdr).content"
   ]
  },
  {
   "cell_type": "code",
   "execution_count": 10,
   "id": "9ef9a115-b8ec-4060-adfd-888adfc91a41",
   "metadata": {},
   "outputs": [
    {
     "name": "stdout",
     "output_type": "stream",
     "text": [
      "25\n",
      "['Hit Man', 'Bad Boys: Ride or Die', 'Inside Out 2', 'Furiosa: A Mad Max Saga', 'Sous la Seine', 'The Watchers', 'The Fall Guy', 'Gojira -1.0', 'Civil War', 'Inside Out', 'Dune: Part Two', 'Kingdom of the Planet of the Apes', 'The Strangers: Chapter 1', 'Munjya', 'Challengers', 'Deadpool & Wolverine', 'The Bikeriders', 'Mad Max: Fury Road', 'Anyone But You', 'The First Omen', 'IF', 'Am I OK?', 'Kinds of Kindness', 'The Ministry of Ungentlemanly Warfare', 'Atlas']\n",
      "25\n",
      "['2023', '2024', '2024', '2024', '2024', '2024', '2024', '2023', '2024', '2015', '2024', '2024', '2024', '2024', '2024', '2024', '2023', '2015', '2023', '2024', '2024', '2022', '2024', '2024', '2024']\n",
      "25\n",
      "['1h 55m', '1h 55m', '1h 36m', '2h 28m', '1h 44m', '1h 42m', '2h 6m', '2h 4m', '1h 49m', '1h 35m', '2h 46m', '2h 25m', '1h 31m', '2h 20m', '2h 11m', '2h 7m', '1h 56m', '2h', '1h 43m', '1h 59m', '1h 44m', '1h 26m', '2h 44m', '2h', '1h 58m']\n",
      "24\n",
      "['R', 'R', 'PG', 'R', 'TV-MA', 'PG-13', 'PG-13', 'PG-13', 'R', 'PG', 'PG-13', 'PG-13', 'R', 'R', 'R', 'R', 'R', 'R', 'R', 'PG', 'R', 'R', 'R', 'PG-13']\n",
      "25\n",
      "['7.0\\xa0(43K)', '7.0\\xa0(19K)', '8.0\\xa0(16K)', '7.8\\xa0(85K)', '5.2\\xa0(18K)', '5.8\\xa0(6.9K)', '7.0\\xa0(101K)', '7.8\\xa0(119K)', '7.2\\xa0(114K)', '8.1\\xa0(795K)', '8.6\\xa0(450K)', '7.2\\xa0(53K)', '4.7\\xa0(11K)', '7.7\\xa0(12K)', '7.3\\xa0(69K)', '', '7.4\\xa0(1.7K)', '8.1\\xa0(1.1M)', '6.1\\xa0(93K)', '6.5\\xa0(35K)', '6.7\\xa0(14K)', '6.1\\xa0(4K)', '6.9\\xa0(2.7K)', '6.9\\xa0(44K)', '5.6\\xa0(41K)']\n"
     ]
    }
   ],
   "source": [
    "tree = html.fromstring(webpage)\n",
    "\n",
    "movie = [x.text_content().strip() for x in tree.xpath(\"//div[contains(@class,'cli-children')]/div[2]\")]\n",
    "print(len(movie))\n",
    "print(movie)\n",
    "\n",
    "year = [x.text_content().strip() for x in tree.xpath(\"//div[contains(@class,'cli-children')]/div[3]/span[1]\")]\n",
    "print(len(year))\n",
    "print(year)\n",
    "\n",
    "length = [x.text_content().strip() for x in tree.xpath(\"//div[contains(@class,'cli-children')]/div[3]/span[2]\")]\n",
    "print(len(length))\n",
    "print(length)\n",
    "\n",
    "grading = [x.text_content().strip() for x in tree.xpath(\"//div[contains(@class,'cli-children')]/div[3]/span[3]\")]\n",
    "print(len(grading))\n",
    "print(grading)\n",
    "\n",
    "rating = [x.text_content().strip() for x in tree.xpath(\"//div[contains(@class,'cli-children')]/span/div/span[1]\")]\n",
    "print(len(rating))\n",
    "print(rating)"
   ]
  },
  {
   "cell_type": "code",
   "execution_count": 11,
   "id": "6bb1c5e7-332f-48f0-8795-0305a8f1b381",
   "metadata": {},
   "outputs": [
    {
     "data": {
      "text/html": [
       "<div>\n",
       "<style scoped>\n",
       "    .dataframe tbody tr th:only-of-type {\n",
       "        vertical-align: middle;\n",
       "    }\n",
       "\n",
       "    .dataframe tbody tr th {\n",
       "        vertical-align: top;\n",
       "    }\n",
       "\n",
       "    .dataframe thead th {\n",
       "        text-align: right;\n",
       "    }\n",
       "</style>\n",
       "<table border=\"1\" class=\"dataframe\">\n",
       "  <thead>\n",
       "    <tr style=\"text-align: right;\">\n",
       "      <th></th>\n",
       "      <th>movie</th>\n",
       "      <th>year</th>\n",
       "      <th>length</th>\n",
       "      <th>rating</th>\n",
       "    </tr>\n",
       "  </thead>\n",
       "  <tbody>\n",
       "    <tr>\n",
       "      <th>0</th>\n",
       "      <td>Hit Man</td>\n",
       "      <td>2023</td>\n",
       "      <td>1h 55m</td>\n",
       "      <td>7.0 (43K)</td>\n",
       "    </tr>\n",
       "    <tr>\n",
       "      <th>1</th>\n",
       "      <td>Bad Boys: Ride or Die</td>\n",
       "      <td>2024</td>\n",
       "      <td>1h 55m</td>\n",
       "      <td>7.0 (19K)</td>\n",
       "    </tr>\n",
       "    <tr>\n",
       "      <th>2</th>\n",
       "      <td>Inside Out 2</td>\n",
       "      <td>2024</td>\n",
       "      <td>1h 36m</td>\n",
       "      <td>8.0 (16K)</td>\n",
       "    </tr>\n",
       "    <tr>\n",
       "      <th>3</th>\n",
       "      <td>Furiosa: A Mad Max Saga</td>\n",
       "      <td>2024</td>\n",
       "      <td>2h 28m</td>\n",
       "      <td>7.8 (85K)</td>\n",
       "    </tr>\n",
       "    <tr>\n",
       "      <th>4</th>\n",
       "      <td>Sous la Seine</td>\n",
       "      <td>2024</td>\n",
       "      <td>1h 44m</td>\n",
       "      <td>5.2 (18K)</td>\n",
       "    </tr>\n",
       "  </tbody>\n",
       "</table>\n",
       "</div>"
      ],
      "text/plain": [
       "                     movie  year  length     rating\n",
       "0                  Hit Man  2023  1h 55m  7.0 (43K)\n",
       "1    Bad Boys: Ride or Die  2024  1h 55m  7.0 (19K)\n",
       "2             Inside Out 2  2024  1h 36m  8.0 (16K)\n",
       "3  Furiosa: A Mad Max Saga  2024  2h 28m  7.8 (85K)\n",
       "4            Sous la Seine  2024  1h 44m  5.2 (18K)"
      ]
     },
     "metadata": {},
     "output_type": "display_data"
    }
   ],
   "source": [
    "df = pd.DataFrame({'movie': movie, 'year':year, 'length':length, 'rating':rating})\n",
    "display(df.head())\n",
    "\n",
    "df.to_csv('practice2.csv', index=False)"
   ]
  },
  {
   "cell_type": "markdown",
   "id": "f2ef6bc0-a80b-4e0e-b2a5-892de43b5d83",
   "metadata": {},
   "source": [
    "**Web scraping using `for` loop**\n",
    "\n",
    "If you look at the above example, you will notice that grading is missing for a movie. In this case, creating a balanced table is not possible. To resolve this issue, we need to use looping."
   ]
  },
  {
   "cell_type": "code",
   "execution_count": 12,
   "id": "c50dd062-1364-4f7f-acc9-66a0d2314d33",
   "metadata": {},
   "outputs": [],
   "source": [
    "tree = html.fromstring(webpage)\n",
    "elems = tree.xpath(\"//div[contains(@class,'cli-children')]\")\n",
    "\n",
    "movie = []\n",
    "year = []\n",
    "length = []\n",
    "rating = []\n",
    "grading = []\n",
    "\n",
    "for e in elems:\n",
    "    val = e.xpath(\"div[2]\")\n",
    "    movie.append(val[0].text_content().strip() if len(val) > 0 else '')\n",
    "\n",
    "    val = e.xpath(\"div[3]/span[1]\")\n",
    "    year.append(val[0].text_content().strip() if len(val) > 0 else '')\n",
    "\n",
    "    val = e.xpath(\"div[3]/span[2]\")\n",
    "    length.append(val[0].text_content().strip() if len(val) > 0 else '')\n",
    "\n",
    "    val = e.xpath(\"div[3]/span[3]\")\n",
    "    grading.append(val[0].text_content().strip() if len(val) > 0 else '')\n",
    "\n",
    "    val = e.xpath(\"span/div/span[1]\")\n",
    "    rating.append(val[0].text_content().strip() if len(val) > 0 else '')"
   ]
  },
  {
   "cell_type": "code",
   "execution_count": 13,
   "id": "52ea6b0d-ecd2-43de-ab78-104e948f9f4c",
   "metadata": {},
   "outputs": [
    {
     "data": {
      "text/html": [
       "<div>\n",
       "<style scoped>\n",
       "    .dataframe tbody tr th:only-of-type {\n",
       "        vertical-align: middle;\n",
       "    }\n",
       "\n",
       "    .dataframe tbody tr th {\n",
       "        vertical-align: top;\n",
       "    }\n",
       "\n",
       "    .dataframe thead th {\n",
       "        text-align: right;\n",
       "    }\n",
       "</style>\n",
       "<table border=\"1\" class=\"dataframe\">\n",
       "  <thead>\n",
       "    <tr style=\"text-align: right;\">\n",
       "      <th></th>\n",
       "      <th>movie</th>\n",
       "      <th>year</th>\n",
       "      <th>length</th>\n",
       "      <th>grading</th>\n",
       "      <th>rating</th>\n",
       "    </tr>\n",
       "  </thead>\n",
       "  <tbody>\n",
       "    <tr>\n",
       "      <th>0</th>\n",
       "      <td>Hit Man</td>\n",
       "      <td>2023</td>\n",
       "      <td>1h 55m</td>\n",
       "      <td>R</td>\n",
       "      <td>7.0 (43K)</td>\n",
       "    </tr>\n",
       "    <tr>\n",
       "      <th>1</th>\n",
       "      <td>Bad Boys: Ride or Die</td>\n",
       "      <td>2024</td>\n",
       "      <td>1h 55m</td>\n",
       "      <td>R</td>\n",
       "      <td>7.0 (19K)</td>\n",
       "    </tr>\n",
       "    <tr>\n",
       "      <th>2</th>\n",
       "      <td>Inside Out 2</td>\n",
       "      <td>2024</td>\n",
       "      <td>1h 36m</td>\n",
       "      <td>PG</td>\n",
       "      <td>8.0 (16K)</td>\n",
       "    </tr>\n",
       "    <tr>\n",
       "      <th>3</th>\n",
       "      <td>Furiosa: A Mad Max Saga</td>\n",
       "      <td>2024</td>\n",
       "      <td>2h 28m</td>\n",
       "      <td>R</td>\n",
       "      <td>7.8 (85K)</td>\n",
       "    </tr>\n",
       "    <tr>\n",
       "      <th>4</th>\n",
       "      <td>Sous la Seine</td>\n",
       "      <td>2024</td>\n",
       "      <td>1h 44m</td>\n",
       "      <td>TV-MA</td>\n",
       "      <td>5.2 (18K)</td>\n",
       "    </tr>\n",
       "  </tbody>\n",
       "</table>\n",
       "</div>"
      ],
      "text/plain": [
       "                     movie  year  length grading     rating\n",
       "0                  Hit Man  2023  1h 55m       R  7.0 (43K)\n",
       "1    Bad Boys: Ride or Die  2024  1h 55m       R  7.0 (19K)\n",
       "2             Inside Out 2  2024  1h 36m      PG  8.0 (16K)\n",
       "3  Furiosa: A Mad Max Saga  2024  2h 28m       R  7.8 (85K)\n",
       "4            Sous la Seine  2024  1h 44m   TV-MA  5.2 (18K)"
      ]
     },
     "metadata": {},
     "output_type": "display_data"
    }
   ],
   "source": [
    "df = pd.DataFrame({'movie': movie, 'year':year, 'length':length, 'grading':grading, 'rating':rating})\n",
    "display(df.head())\n",
    "\n",
    "df.to_csv('practice2_forloop.csv', index=False)"
   ]
  }
 ],
 "metadata": {
  "kernelspec": {
   "display_name": "Python 3 (ipykernel)",
   "language": "python",
   "name": "python3"
  },
  "language_info": {
   "codemirror_mode": {
    "name": "ipython",
    "version": 3
   },
   "file_extension": ".py",
   "mimetype": "text/x-python",
   "name": "python",
   "nbconvert_exporter": "python",
   "pygments_lexer": "ipython3",
   "version": "3.12.1"
  }
 },
 "nbformat": 4,
 "nbformat_minor": 5
}
